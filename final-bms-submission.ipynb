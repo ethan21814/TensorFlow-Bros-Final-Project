{
 "cells": [
  {
   "cell_type": "code",
   "execution_count": 1,
   "id": "surprised-officer",
   "metadata": {
    "_cell_guid": "b1076dfc-b9ad-4769-8c92-a6c4dae69d19",
    "_uuid": "8f2839f25d086af736a60e9eeb907d3b93b6e0e5",
    "execution": {
     "iopub.execute_input": "2021-04-17T13:07:08.129311Z",
     "iopub.status.busy": "2021-04-17T13:07:08.118250Z",
     "iopub.status.idle": "2021-04-17T13:07:23.697784Z",
     "shell.execute_reply": "2021-04-17T13:07:23.696952Z"
    },
    "papermill": {
     "duration": 15.61838,
     "end_time": "2021-04-17T13:07:23.697979",
     "exception": false,
     "start_time": "2021-04-17T13:07:08.079599",
     "status": "completed"
    },
    "tags": []
   },
   "outputs": [],
   "source": [
    "# install image classifier \n",
    "!pip install -q --upgrade pip\n",
    "!pip install -q efficientnet"
   ]
  },
  {
   "cell_type": "code",
   "execution_count": 2,
   "id": "graduate-savage",
   "metadata": {
    "execution": {
     "iopub.execute_input": "2021-04-17T13:07:23.771218Z",
     "iopub.status.busy": "2021-04-17T13:07:23.770119Z",
     "iopub.status.idle": "2021-04-17T13:07:30.656408Z",
     "shell.execute_reply": "2021-04-17T13:07:30.655805Z"
    },
    "papermill": {
     "duration": 6.925889,
     "end_time": "2021-04-17T13:07:30.656563",
     "exception": false,
     "start_time": "2021-04-17T13:07:23.730674",
     "status": "completed"
    },
    "tags": []
   },
   "outputs": [],
   "source": [
    "# install relevant packages\n",
    "\n",
    "import pandas as pd\n",
    "import tensorflow as tf\n",
    "import matplotlib.pyplot as plt\n",
    "import efficientnet.tfkeras as efn\n",
    "\n",
    "from tensorflow.keras.mixed_precision import experimental as mixed_precision\n",
    "from kaggle_datasets import KaggleDatasets\n",
    "from tqdm.notebook import tqdm\n",
    "\n",
    "import unicodedata\n",
    "import re\n",
    "import numpy as np\n",
    "import os\n",
    "import io\n",
    "import time\n",
    "import pickle\n",
    "import math\n",
    "import random"
   ]
  },
  {
   "cell_type": "code",
   "execution_count": 3,
   "id": "caroline-report",
   "metadata": {
    "execution": {
     "iopub.execute_input": "2021-04-17T13:07:30.728933Z",
     "iopub.status.busy": "2021-04-17T13:07:30.728224Z",
     "iopub.status.idle": "2021-04-17T13:07:30.730335Z",
     "shell.execute_reply": "2021-04-17T13:07:30.730857Z"
    },
    "papermill": {
     "duration": 0.040381,
     "end_time": "2021-04-17T13:07:30.731040",
     "exception": false,
     "start_time": "2021-04-17T13:07:30.690659",
     "status": "completed"
    },
    "tags": []
   },
   "outputs": [],
   "source": [
    "# seed for reproducibility\n",
    "SEED = 42\n",
    "os.environ['PYTHONHASHSEED'] = str(SEED)\n",
    "random.seed(SEED)\n",
    "np.random.seed(SEED)\n",
    "tf.random.set_seed(SEED)"
   ]
  },
  {
   "cell_type": "code",
   "execution_count": 4,
   "id": "matched-yukon",
   "metadata": {
    "execution": {
     "iopub.execute_input": "2021-04-17T13:07:30.869339Z",
     "iopub.status.busy": "2021-04-17T13:07:30.868280Z",
     "iopub.status.idle": "2021-04-17T13:07:36.467609Z",
     "shell.execute_reply": "2021-04-17T13:07:36.467097Z"
    },
    "papermill": {
     "duration": 5.704707,
     "end_time": "2021-04-17T13:07:36.467780",
     "exception": false,
     "start_time": "2021-04-17T13:07:30.763073",
     "status": "completed"
    },
    "tags": []
   },
   "outputs": [
    {
     "name": "stdout",
     "output_type": "stream",
     "text": [
      "Running on TPU  grpc://10.0.0.2:8470\n",
      "REPLICAS: 8\n",
      "Compute dtype: bfloat16\n",
      "Variable dtype: float32\n"
     ]
    }
   ],
   "source": [
    "# Detect hardware, set appropriate distribution strategy (GPU/TPU)\n",
    "try:\n",
    "    TPU = tf.distribute.cluster_resolver.TPUClusterResolver()  # TPU detection. No parameters necessary if TPU_NAME environment variable is set. On Kaggle this is always the case.\n",
    "    print('Running on TPU ', TPU.master())\n",
    "except ValueError:\n",
    "    print('Running on GPU')\n",
    "    TPU = None\n",
    "\n",
    "if TPU:\n",
    "    tf.config.experimental_connect_to_cluster(TPU)\n",
    "    tf.tpu.experimental.initialize_tpu_system(TPU)\n",
    "    strategy = tf.distribute.experimental.TPUStrategy(TPU)\n",
    "else:\n",
    "    strategy = tf.distribute.get_strategy() # default distribution strategy in Tensorflow. Works on CPU and single GPU.\n",
    "\n",
    "REPLICAS = strategy.num_replicas_in_sync\n",
    "print(f'REPLICAS: {REPLICAS}')\n",
    "\n",
    "# # set half precision policy\n",
    "mixed_precision.set_policy('mixed_bfloat16' if TPU else 'float32')\n",
    "\n",
    "# enable XLA optmizations\n",
    "tf.config.optimizer.set_jit(True)\n",
    "\n",
    "print(f'Compute dtype: {mixed_precision.global_policy().compute_dtype}')\n",
    "print(f'Variable dtype: {mixed_precision.global_policy().variable_dtype}')"
   ]
  },
  {
   "cell_type": "code",
   "execution_count": 5,
   "id": "former-pickup",
   "metadata": {
    "execution": {
     "iopub.execute_input": "2021-04-17T13:07:36.537849Z",
     "iopub.status.busy": "2021-04-17T13:07:36.537146Z",
     "iopub.status.idle": "2021-04-17T13:07:36.718911Z",
     "shell.execute_reply": "2021-04-17T13:07:36.718313Z"
    },
    "papermill": {
     "duration": 0.217814,
     "end_time": "2021-04-17T13:07:36.719071",
     "exception": false,
     "start_time": "2021-04-17T13:07:36.501257",
     "status": "completed"
    },
    "tags": []
   },
   "outputs": [],
   "source": [
    "from kaggle_secrets import UserSecretsClient\n",
    "user_secrets = UserSecretsClient()\n",
    "secret_value_0 = user_secrets.get_secret(\"__gcloud_sdk_auth__\")"
   ]
  },
  {
   "cell_type": "code",
   "execution_count": 6,
   "id": "still-dylan",
   "metadata": {
    "execution": {
     "iopub.execute_input": "2021-04-17T13:07:36.798275Z",
     "iopub.status.busy": "2021-04-17T13:07:36.797543Z",
     "iopub.status.idle": "2021-04-17T13:07:36.951093Z",
     "shell.execute_reply": "2021-04-17T13:07:36.950507Z"
    },
    "papermill": {
     "duration": 0.198943,
     "end_time": "2021-04-17T13:07:36.951252",
     "exception": false,
     "start_time": "2021-04-17T13:07:36.752309",
     "status": "completed"
    },
    "tags": []
   },
   "outputs": [],
   "source": [
    "from kaggle_secrets import UserSecretsClient\n",
    "user_secrets = UserSecretsClient()\n",
    "user_credential = user_secrets.get_gcloud_credential()\n",
    "user_secrets.set_tensorflow_credential(user_credential)"
   ]
  },
  {
   "cell_type": "code",
   "execution_count": 7,
   "id": "under-equipment",
   "metadata": {
    "execution": {
     "iopub.execute_input": "2021-04-17T13:07:37.023048Z",
     "iopub.status.busy": "2021-04-17T13:07:37.022316Z",
     "iopub.status.idle": "2021-04-17T13:07:37.886711Z",
     "shell.execute_reply": "2021-04-17T13:07:37.886106Z"
    },
    "papermill": {
     "duration": 0.900842,
     "end_time": "2021-04-17T13:07:37.886860",
     "exception": false,
     "start_time": "2021-04-17T13:07:36.986018",
     "status": "completed"
    },
    "tags": []
   },
   "outputs": [],
   "source": [
    "DEBUG = False # when DEBUG = True, use smaller dataset\n",
    "\n",
    "# image resolution determined in data cleaning process\n",
    "IMG_HEIGHT = 256\n",
    "IMG_WIDTH = 448\n",
    "N_CHANNELS = 3\n",
    "# maximum InChI length is 200 to prevent too much padding\n",
    "MAX_INCHI_LEN = 200\n",
    "\n",
    "# batch sizes\n",
    "BATCH_SIZE_BASE = 6 if DEBUG else (64 if TPU else 12) \n",
    "BATCH_SIZE = BATCH_SIZE_BASE * REPLICAS\n",
    "BATCH_SIZE_DEBUG = 2\n",
    "\n",
    "# target data type, bfloat16 when using TPU to improve throughput\n",
    "TARGET_DTYPE = tf.bfloat16 if TPU else tf.float32\n",
    " # minimal memory usage of labels\n",
    "LABEL_DTYPE= tf.uint8\n",
    "\n",
    "# 100K validation images are used\n",
    "VAL_SIZE = int(100) if DEBUG else int(10000)\n",
    "VAL_STEPS = VAL_SIZE // BATCH_SIZE\n",
    "\n",
    "# ImageNet mean and std to normalize training images accordingly\n",
    "IMAGENET_MEAN = tf.constant([0.485, 0.456, 0.406], dtype=tf.float32)\n",
    "IMAGENET_STD = tf.constant([0.229, 0.224, 0.225], dtype=tf.float32)\n",
    "\n",
    "# Google Cloud Dataset path to training and validation images\n",
    "GCS_DS_PATH = KaggleDatasets().get_gcs_path('finaldata')\n",
    "\n",
    "# Tensorflow AUTO flag, used in datasets\n",
    "AUTO = tf.data.experimental.AUTOTUNE"
   ]
  },
  {
   "cell_type": "code",
   "execution_count": 8,
   "id": "final-wesley",
   "metadata": {
    "execution": {
     "iopub.execute_input": "2021-04-17T13:07:37.957590Z",
     "iopub.status.busy": "2021-04-17T13:07:37.956920Z",
     "iopub.status.idle": "2021-04-17T13:07:37.991229Z",
     "shell.execute_reply": "2021-04-17T13:07:37.990163Z"
    },
    "papermill": {
     "duration": 0.070593,
     "end_time": "2021-04-17T13:07:37.991447",
     "exception": false,
     "start_time": "2021-04-17T13:07:37.920854",
     "status": "completed"
    },
    "tags": []
   },
   "outputs": [],
   "source": [
    "# character to integer mapping\n",
    "with open('../input/tokenizer/vocabulary_to_int.pkl', 'rb') as handle:\n",
    "    vocabulary_to_int = pickle.load( handle)\n",
    "\n",
    "# integer to character mapping\n",
    "with open('../input/tokenizer/int_to_vocabulary.pkl', 'rb') as handle:\n",
    "    int_to_vocabulary = pickle.load( handle)"
   ]
  },
  {
   "cell_type": "code",
   "execution_count": 9,
   "id": "fatty-intermediate",
   "metadata": {
    "execution": {
     "iopub.execute_input": "2021-04-17T13:07:38.070350Z",
     "iopub.status.busy": "2021-04-17T13:07:38.069670Z",
     "iopub.status.idle": "2021-04-17T13:07:38.072264Z",
     "shell.execute_reply": "2021-04-17T13:07:38.072779Z"
    },
    "papermill": {
     "duration": 0.044427,
     "end_time": "2021-04-17T13:07:38.072959",
     "exception": false,
     "start_time": "2021-04-17T13:07:38.028532",
     "status": "completed"
    },
    "tags": []
   },
   "outputs": [
    {
     "name": "stdout",
     "output_type": "stream",
     "text": [
      "VOCAB_SIZE: 41\n"
     ]
    }
   ],
   "source": [
    "# configure model\n",
    "VOCAB_SIZE = len(vocabulary_to_int.values())\n",
    "SEQ_LEN_OUT = MAX_INCHI_LEN\n",
    "DECODER_DIM = 1024\n",
    "ATTENTION_UNITS = 512\n",
    "\n",
    "print(f'VOCAB_SIZE: {VOCAB_SIZE}')"
   ]
  },
  {
   "cell_type": "code",
   "execution_count": 10,
   "id": "dominant-boston",
   "metadata": {
    "execution": {
     "iopub.execute_input": "2021-04-17T13:07:38.147084Z",
     "iopub.status.busy": "2021-04-17T13:07:38.146363Z",
     "iopub.status.idle": "2021-04-17T13:07:38.154095Z",
     "shell.execute_reply": "2021-04-17T13:07:38.154603Z"
    },
    "papermill": {
     "duration": 0.046907,
     "end_time": "2021-04-17T13:07:38.154823",
     "exception": false,
     "start_time": "2021-04-17T13:07:38.107916",
     "status": "completed"
    },
    "tags": []
   },
   "outputs": [],
   "source": [
    "# decodes TFRecord\n",
    "def decode_tfrecord(record_bytes):\n",
    "    features = tf.io.parse_single_example(record_bytes, {\n",
    "        'image': tf.io.FixedLenFeature([], tf.string),\n",
    "        'InChI': tf.io.FixedLenFeature([MAX_INCHI_LEN], tf.int64),\n",
    "    })\n",
    "\n",
    "    # decode the PNG and explicitly reshape to image size (required on TPU)\n",
    "    image = tf.io.decode_png(features['image'])    \n",
    "    image = tf.reshape(image, [IMG_HEIGHT, IMG_WIDTH, 1])\n",
    "    # normalize according to ImageNet mean and std\n",
    "    image = tf.cast(image, tf.float32)  / 255.0\n",
    "    image = (image - IMAGENET_MEAN) / IMAGENET_STD\n",
    "    \n",
    "    if TPU: # if running on TPU image needs to be cast to bfloat16\n",
    "        image = tf.cast(image, TARGET_DTYPE)\n",
    "    \n",
    "    InChI = tf.reshape(features['InChI'], [MAX_INCHI_LEN])\n",
    "    InChI = tf.cast(InChI, LABEL_DTYPE)\n",
    "    \n",
    "    return image, InChI"
   ]
  },
  {
   "cell_type": "code",
   "execution_count": 11,
   "id": "successful-gibraltar",
   "metadata": {
    "execution": {
     "iopub.execute_input": "2021-04-17T13:07:38.226856Z",
     "iopub.status.busy": "2021-04-17T13:07:38.226165Z",
     "iopub.status.idle": "2021-04-17T13:07:38.233890Z",
     "shell.execute_reply": "2021-04-17T13:07:38.234441Z"
    },
    "papermill": {
     "duration": 0.045178,
     "end_time": "2021-04-17T13:07:38.234635",
     "exception": false,
     "start_time": "2021-04-17T13:07:38.189457",
     "status": "completed"
    },
    "tags": []
   },
   "outputs": [],
   "source": [
    "# Benchmark function to test the dataset throughput performance\n",
    "def benchmark_dataset(dataset, num_epochs=3, n_steps_per_epoch=25, bs=BATCH_SIZE):\n",
    "    start_time = time.perf_counter()\n",
    "    for epoch_num in range(num_epochs):\n",
    "        epoch_start = time.perf_counter()\n",
    "        for idx, (images, labels) in enumerate(dataset.take(n_steps_per_epoch)):\n",
    "            if idx is 1 and epoch_num is 0:\n",
    "                print(f'image shape: {images.shape}, image dtype: {images.dtype}')\n",
    "                print(f'labels shape: {labels.shape}, label dtype: {labels.dtype}')\n",
    "            pass\n",
    "        epoch_t = time.perf_counter() - epoch_start\n",
    "        mean_step_t = round(epoch_t / n_steps_per_epoch * 1000, 1)\n",
    "        n_imgs_per_s = int(1 / (mean_step_t / 1000) * bs)\n",
    "        print(f'epoch {epoch_num} took: {round(epoch_t, 2)} sec, mean step duration: {mean_step_t}ms, images/s: {n_imgs_per_s}')"
   ]
  },
  {
   "cell_type": "code",
   "execution_count": 12,
   "id": "likely-figure",
   "metadata": {
    "execution": {
     "iopub.execute_input": "2021-04-17T13:07:38.306712Z",
     "iopub.status.busy": "2021-04-17T13:07:38.306058Z",
     "iopub.status.idle": "2021-04-17T13:07:38.312703Z",
     "shell.execute_reply": "2021-04-17T13:07:38.313180Z"
    },
    "papermill": {
     "duration": 0.044444,
     "end_time": "2021-04-17T13:07:38.313365",
     "exception": false,
     "start_time": "2021-04-17T13:07:38.268921",
     "status": "completed"
    },
    "tags": []
   },
   "outputs": [],
   "source": [
    "# plots the first images of the dataset\n",
    "def show_batch(dataset, rows=3, cols=2): # for temporary purposes\n",
    "    imgs, lbls = next(iter(dataset))\n",
    "    fig, axes = plt.subplots(nrows=rows, ncols=cols, figsize=(cols*7, rows*4))\n",
    "    for r in range(rows):\n",
    "        for c in range(cols):\n",
    "            img = imgs[r*cols+c].numpy().astype(np.float32)\n",
    "            img += abs(img.min())\n",
    "            img /= img.max()\n",
    "            axes[r, c].imshow(img)"
   ]
  },
  {
   "cell_type": "code",
   "execution_count": 13,
   "id": "compact-activation",
   "metadata": {
    "execution": {
     "iopub.execute_input": "2021-04-17T13:07:38.385967Z",
     "iopub.status.busy": "2021-04-17T13:07:38.385301Z",
     "iopub.status.idle": "2021-04-17T13:07:39.791173Z",
     "shell.execute_reply": "2021-04-17T13:07:39.790316Z"
    },
    "papermill": {
     "duration": 1.443495,
     "end_time": "2021-04-17T13:07:39.791325",
     "exception": false,
     "start_time": "2021-04-17T13:07:38.347830",
     "status": "completed"
    },
    "tags": []
   },
   "outputs": [],
   "source": [
    "def get_train_dataset(bs=BATCH_SIZE):\n",
    "    ignore_order = tf.data.Options()\n",
    "    ignore_order.experimental_deterministic = False\n",
    "    \n",
    "    FNAMES_TRAIN_TFRECORDS = tf.io.gfile.glob(f'{GCS_DS_PATH}/allcleanedimages/train/*.tfrecords')\n",
    "    train_dataset = tf.data.TFRecordDataset(FNAMES_TRAIN_TFRECORDS, num_parallel_reads=AUTO)\n",
    "    train_dataset = train_dataset.with_options(ignore_order)\n",
    "    train_dataset = train_dataset.prefetch(AUTO) # optimize automatically\n",
    "    train_dataset = train_dataset.repeat()\n",
    "    train_dataset = train_dataset.map(decode_tfrecord, num_parallel_calls=AUTO)  # optimize automatically\n",
    "    train_dataset = train_dataset.batch(BATCH_SIZE, drop_remainder=True)\n",
    "    train_dataset = train_dataset.prefetch(1) # just 1 prefetched batch is needed\n",
    "    \n",
    "    return train_dataset\n",
    "\n",
    "train_dataset = get_train_dataset()"
   ]
  },
  {
   "cell_type": "code",
   "execution_count": 14,
   "id": "armed-relief",
   "metadata": {
    "execution": {
     "iopub.execute_input": "2021-04-17T13:07:39.867961Z",
     "iopub.status.busy": "2021-04-17T13:07:39.866950Z",
     "iopub.status.idle": "2021-04-17T13:07:54.736059Z",
     "shell.execute_reply": "2021-04-17T13:07:54.736609Z"
    },
    "papermill": {
     "duration": 14.910755,
     "end_time": "2021-04-17T13:07:54.736834",
     "exception": false,
     "start_time": "2021-04-17T13:07:39.826079",
     "status": "completed"
    },
    "tags": []
   },
   "outputs": [
    {
     "name": "stdout",
     "output_type": "stream",
     "text": [
      "image shape: (512, 256, 448, 3), image dtype: <dtype: 'bfloat16'>\n",
      "labels shape: (512, 200), label dtype: <dtype: 'uint8'>\n",
      "epoch 0 took: 9.45 sec, mean step duration: 378.2ms, images/s: 1353\n",
      "epoch 1 took: 3.55 sec, mean step duration: 142.1ms, images/s: 3603\n",
      "epoch 2 took: 1.86 sec, mean step duration: 74.3ms, images/s: 6890\n"
     ]
    }
   ],
   "source": [
    "benchmark_dataset(train_dataset)"
   ]
  },
  {
   "cell_type": "code",
   "execution_count": 15,
   "id": "treated-entrepreneur",
   "metadata": {
    "execution": {
     "iopub.execute_input": "2021-04-17T13:07:54.816761Z",
     "iopub.status.busy": "2021-04-17T13:07:54.815722Z",
     "iopub.status.idle": "2021-04-17T13:07:55.091752Z",
     "shell.execute_reply": "2021-04-17T13:07:55.090708Z"
    },
    "papermill": {
     "duration": 0.318381,
     "end_time": "2021-04-17T13:07:55.091967",
     "exception": false,
     "start_time": "2021-04-17T13:07:54.773586",
     "status": "completed"
    },
    "tags": []
   },
   "outputs": [
    {
     "name": "stdout",
     "output_type": "stream",
     "text": [
      "imgs.shape: (512, 256, 448, 3), lbls.shape: (512, 200)\n",
      "train img 0 mean: -1.881, 0 std: 0.689, min: -2.125, max: 2.641, <dtype: 'bfloat16'>\n"
     ]
    }
   ],
   "source": [
    "# display statistics about the first image to check if the images are decoded correctly\n",
    "imgs, lbls = next(iter(train_dataset))\n",
    "print(f'imgs.shape: {imgs.shape}, lbls.shape: {lbls.shape}')\n",
    "img0 = imgs[0].numpy().astype(np.float32)\n",
    "train_batch_info = (img0.mean(), img0.std(), img0.min(), img0.max(), imgs.dtype)\n",
    "print('train img 0 mean: %.3f, 0 std: %.3f, min: %.3f, max: %.3f, %s' % train_batch_info)"
   ]
  },
  {
   "cell_type": "code",
   "execution_count": 16,
   "id": "heavy-chassis",
   "metadata": {
    "execution": {
     "iopub.execute_input": "2021-04-17T13:07:55.171944Z",
     "iopub.status.busy": "2021-04-17T13:07:55.170892Z",
     "iopub.status.idle": "2021-04-17T13:07:56.877447Z",
     "shell.execute_reply": "2021-04-17T13:07:56.877964Z"
    },
    "papermill": {
     "duration": 1.748101,
     "end_time": "2021-04-17T13:07:56.878135",
     "exception": false,
     "start_time": "2021-04-17T13:07:55.130034",
     "status": "completed"
    },
    "tags": []
   },
   "outputs": [
    {
     "data": {
      "image/png": "[encoded data removed]",
      "text/plain": [
       "<Figure size 1008x864 with 6 Axes>"
      ]
     },
     "metadata": {
      "needs_background": "light"
     },
     "output_type": "display_data"
    }
   ],
   "source": [
    "# show first few train images\n",
    "show_batch(train_dataset)"
   ]
  },
  {
   "cell_type": "code",
   "execution_count": 17,
   "id": "incorporated-program",
   "metadata": {
    "execution": {
     "iopub.execute_input": "2021-04-17T13:07:56.963914Z",
     "iopub.status.busy": "2021-04-17T13:07:56.963193Z",
     "iopub.status.idle": "2021-04-17T13:07:57.151859Z",
     "shell.execute_reply": "2021-04-17T13:07:57.152356Z"
    },
    "papermill": {
     "duration": 0.234868,
     "end_time": "2021-04-17T13:07:57.152577",
     "exception": false,
     "start_time": "2021-04-17T13:07:56.917709",
     "status": "completed"
    },
    "tags": []
   },
   "outputs": [],
   "source": [
    "def get_val_dataset(bs=BATCH_SIZE):\n",
    "    FNAMES_TRAIN_TFRECORDS = tf.io.gfile.glob(f'{GCS_DS_PATH}/allcleanedimages/val/*.tfrecords')\n",
    "    val_dataset = tf.data.TFRecordDataset(FNAMES_TRAIN_TFRECORDS, num_parallel_reads=AUTO)\n",
    "    val_dataset = val_dataset.prefetch(AUTO)\n",
    "    val_dataset = val_dataset.repeat()\n",
    "    val_dataset = val_dataset.map(decode_tfrecord, num_parallel_calls=AUTO)\n",
    "    val_dataset = val_dataset.batch(BATCH_SIZE, drop_remainder=True)\n",
    "    val_dataset = val_dataset.prefetch(1)\n",
    "    \n",
    "    return val_dataset\n",
    "\n",
    "val_dataset = get_val_dataset()"
   ]
  },
  {
   "cell_type": "code",
   "execution_count": 18,
   "id": "instructional-yugoslavia",
   "metadata": {
    "execution": {
     "iopub.execute_input": "2021-04-17T13:07:57.235812Z",
     "iopub.status.busy": "2021-04-17T13:07:57.234853Z",
     "iopub.status.idle": "2021-04-17T13:08:06.284569Z",
     "shell.execute_reply": "2021-04-17T13:08:06.283756Z"
    },
    "papermill": {
     "duration": 9.092172,
     "end_time": "2021-04-17T13:08:06.284753",
     "exception": false,
     "start_time": "2021-04-17T13:07:57.192581",
     "status": "completed"
    },
    "tags": []
   },
   "outputs": [
    {
     "name": "stdout",
     "output_type": "stream",
     "text": [
      "image shape: (512, 256, 448, 3), image dtype: <dtype: 'bfloat16'>\n",
      "labels shape: (512, 200), label dtype: <dtype: 'uint8'>\n",
      "epoch 0 took: 5.26 sec, mean step duration: 210.3ms, images/s: 2434\n",
      "epoch 1 took: 1.89 sec, mean step duration: 75.5ms, images/s: 6781\n",
      "epoch 2 took: 1.89 sec, mean step duration: 75.8ms, images/s: 6754\n"
     ]
    }
   ],
   "source": [
    "benchmark_dataset(val_dataset)"
   ]
  },
  {
   "cell_type": "code",
   "execution_count": 19,
   "id": "expressed-insertion",
   "metadata": {
    "execution": {
     "iopub.execute_input": "2021-04-17T13:08:06.376984Z",
     "iopub.status.busy": "2021-04-17T13:08:06.376012Z",
     "iopub.status.idle": "2021-04-17T13:08:06.629974Z",
     "shell.execute_reply": "2021-04-17T13:08:06.630509Z"
    },
    "papermill": {
     "duration": 0.303503,
     "end_time": "2021-04-17T13:08:06.630708",
     "exception": false,
     "start_time": "2021-04-17T13:08:06.327205",
     "status": "completed"
    },
    "tags": []
   },
   "outputs": [
    {
     "name": "stdout",
     "output_type": "stream",
     "text": [
      "val_imgs.shape: (512, 256, 448, 3), val_lbls.shape: (512, 200)\n",
      "val img 0 mean: -1.881, 0 std: 0.689, min: -2.125, max: 2.641, <dtype: 'bfloat16'>\n"
     ]
    }
   ],
   "source": [
    "val_imgs, val_lbls = next(iter(val_dataset))\n",
    "print(f'val_imgs.shape: {val_imgs.shape}, val_lbls.shape: {val_lbls.shape}')\n",
    "val_img0 = val_imgs[0].numpy().astype(np.float32)\n",
    "val_batch_info = (val_img0.mean(), val_img0.std(), val_img0.min(), val_img0.max(), val_imgs.dtype)\n",
    "print('val img 0 mean: %.3f, 0 std: %.3f, min: %.3f, max: %.3f, %s' % train_batch_info)"
   ]
  },
  {
   "cell_type": "code",
   "execution_count": 20,
   "id": "characteristic-fourth",
   "metadata": {
    "execution": {
     "iopub.execute_input": "2021-04-17T13:08:06.721331Z",
     "iopub.status.busy": "2021-04-17T13:08:06.720387Z",
     "iopub.status.idle": "2021-04-17T13:08:07.995009Z",
     "shell.execute_reply": "2021-04-17T13:08:07.995807Z"
    },
    "papermill": {
     "duration": 1.322712,
     "end_time": "2021-04-17T13:08:07.996066",
     "exception": false,
     "start_time": "2021-04-17T13:08:06.673354",
     "status": "completed"
    },
    "tags": []
   },
   "outputs": [
    {
     "data": {
      "image/png": "[encoded data removed]",
      "text/plain": [
       "<Figure size 1008x864 with 6 Axes>"
      ]
     },
     "metadata": {
      "needs_background": "light"
     },
     "output_type": "display_data"
    }
   ],
   "source": [
    "show_batch(val_dataset)"
   ]
  },
  {
   "cell_type": "markdown",
   "id": "straight-chaos",
   "metadata": {
    "papermill": {
     "duration": 0.044797,
     "end_time": "2021-04-17T13:08:08.087540",
     "exception": false,
     "start_time": "2021-04-17T13:08:08.042743",
     "status": "completed"
    },
    "tags": []
   },
   "source": [
    "# Model Construction"
   ]
  },
  {
   "cell_type": "code",
   "execution_count": 21,
   "id": "sensitive-tissue",
   "metadata": {
    "execution": {
     "iopub.execute_input": "2021-04-17T13:08:08.189201Z",
     "iopub.status.busy": "2021-04-17T13:08:08.188424Z",
     "iopub.status.idle": "2021-04-17T13:08:08.192713Z",
     "shell.execute_reply": "2021-04-17T13:08:08.192163Z"
    },
    "papermill": {
     "duration": 0.059699,
     "end_time": "2021-04-17T13:08:08.192860",
     "exception": false,
     "start_time": "2021-04-17T13:08:08.133161",
     "status": "completed"
    },
    "tags": []
   },
   "outputs": [],
   "source": [
    "class Encoder(tf.keras.Model):\n",
    "    def __init__(self):\n",
    "        super(Encoder, self).__init__()\n",
    "        \n",
    "        # output: (bs, 1280, 14, 8)\n",
    "        self.feature_maps = efn.EfficientNetB4(include_top=False, weights='noisy-student')\n",
    "        # set global encoder dimension variable\n",
    "        global ENCODER_DIM\n",
    "        ENCODER_DIM = self.feature_maps.layers[-1].output_shape[-1]\n",
    "        \n",
    "        # output: (bs, 1280, 112)\n",
    "        self.reshape = tf.keras.layers.Reshape([-1, ENCODER_DIM], name='reshape_featuere_maps')\n",
    "        # output: (bs, 112, 1280)\n",
    "        self.permuate = tf.keras.layers.Permute([2, 1], name='permutate_features_last')\n",
    "\n",
    "    def call(self, x, training):\n",
    "        x = self.feature_maps(x, training=training)\n",
    "        x = self.reshape(x, training=training)\n",
    "        x = self.permuate(x, training=training)\n",
    "        return x"
   ]
  },
  {
   "cell_type": "code",
   "execution_count": 22,
   "id": "subject-latex",
   "metadata": {
    "execution": {
     "iopub.execute_input": "2021-04-17T13:08:08.287061Z",
     "iopub.status.busy": "2021-04-17T13:08:08.286359Z",
     "iopub.status.idle": "2021-04-17T13:08:34.157454Z",
     "shell.execute_reply": "2021-04-17T13:08:34.158435Z"
    },
    "papermill": {
     "duration": 25.921843,
     "end_time": "2021-04-17T13:08:34.158696",
     "exception": false,
     "start_time": "2021-04-17T13:08:08.236853",
     "status": "completed"
    },
    "tags": []
   },
   "outputs": [
    {
     "name": "stdout",
     "output_type": "stream",
     "text": [
      "Downloading data from https://github.com/qubvel/efficientnet/releases/download/v0.0.1/efficientnet-b4_noisy-student_notop.h5\n",
      "71680000/71678424 [==============================] - 1s 0us/step\n",
      "Encoder output shape: (batch size, sequence length, units) (2, 1792, 112)\n"
     ]
    }
   ],
   "source": [
    "with tf.device('/CPU:0'):\n",
    "    encoder = Encoder()\n",
    "    encoder_res = encoder(imgs[:BATCH_SIZE_DEBUG])\n",
    "\n",
    "print ('Encoder output shape: (batch size, sequence length, units) {}'.format(encoder_res.shape))"
   ]
  },
  {
   "cell_type": "code",
   "execution_count": 23,
   "id": "invalid-driving",
   "metadata": {
    "execution": {
     "iopub.execute_input": "2021-04-17T13:08:34.277389Z",
     "iopub.status.busy": "2021-04-17T13:08:34.276685Z",
     "iopub.status.idle": "2021-04-17T13:08:34.279457Z",
     "shell.execute_reply": "2021-04-17T13:08:34.279993Z"
    },
    "papermill": {
     "duration": 0.066856,
     "end_time": "2021-04-17T13:08:34.280168",
     "exception": false,
     "start_time": "2021-04-17T13:08:34.213312",
     "status": "completed"
    },
    "tags": []
   },
   "outputs": [],
   "source": [
    "class BahdanauAttention(tf.keras.layers.Layer):\n",
    "    def __init__(self, units):\n",
    "        super(BahdanauAttention, self).__init__()\n",
    "        self.W1 = tf.keras.layers.Dense(units, name='hidden_to_attention_units')\n",
    "        self.W2 = tf.keras.layers.Dense(units, name='encoder_res_to_attention_units')\n",
    "        self.V = tf.keras.layers.Dense(1, name='score_to_alpha')\n",
    "\n",
    "    def call(self, h, encoder_res, training):\n",
    "        # dense hidden state to attention units size and expand dimension\n",
    "        hidden_with_time_axis = tf.expand_dims(h, 1)\n",
    "        hidden_with_time_axis = self.W2(hidden_with_time_axis, training=training)\n",
    "        # dense features to units size\n",
    "        encoder_res_dense = self.W1(encoder_res, training=training)\n",
    "\n",
    "        # add vectors\n",
    "        score = tf.math.tanh(hidden_with_time_axis + encoder_res_dense)\n",
    "        score = self.V(score, training=training)\n",
    "        \n",
    "        # create alpha vector size (bs, layers)        \n",
    "        attention_weights = tf.nn.softmax(score, axis=1)\n",
    "        \n",
    "        # create attention weights (bs, layers)\n",
    "        context_vector = encoder_res * attention_weights #  tf.expand_dims(attention_weights, axis=2)\n",
    "        context_vector = tf.reduce_sum(context_vector  , axis=1)\n",
    "        \n",
    "        return context_vector, attention_weights"
   ]
  },
  {
   "cell_type": "code",
   "execution_count": 24,
   "id": "bright-tribune",
   "metadata": {
    "execution": {
     "iopub.execute_input": "2021-04-17T13:08:34.397899Z",
     "iopub.status.busy": "2021-04-17T13:08:34.397123Z",
     "iopub.status.idle": "2021-04-17T13:08:34.482637Z",
     "shell.execute_reply": "2021-04-17T13:08:34.483119Z"
    },
    "papermill": {
     "duration": 0.150113,
     "end_time": "2021-04-17T13:08:34.483304",
     "exception": false,
     "start_time": "2021-04-17T13:08:34.333191",
     "status": "completed"
    },
    "tags": []
   },
   "outputs": [
    {
     "name": "stdout",
     "output_type": "stream",
     "text": [
      "context_vector shape: (batch size, units) (2, 112)\n",
      "attention_weights shape: (batch_size, sequence_length, 1) (2, 1792, 1)\n"
     ]
    }
   ],
   "source": [
    "with tf.device('/CPU:0'):\n",
    "    attention_layer = BahdanauAttention(ATTENTION_UNITS)\n",
    "    context_vector, attention_weights = attention_layer(tf.zeros([BATCH_SIZE_DEBUG, DECODER_DIM]), encoder_res)\n",
    "\n",
    "print('context_vector shape: (batch size, units) {}'.format(context_vector.shape))\n",
    "print('attention_weights shape: (batch_size, sequence_length, 1) {}'.format(attention_weights.shape))"
   ]
  },
  {
   "cell_type": "code",
   "execution_count": 25,
   "id": "dated-keeping",
   "metadata": {
    "execution": {
     "iopub.execute_input": "2021-04-17T13:08:34.601393Z",
     "iopub.status.busy": "2021-04-17T13:08:34.595229Z",
     "iopub.status.idle": "2021-04-17T13:08:34.604748Z",
     "shell.execute_reply": "2021-04-17T13:08:34.604107Z"
    },
    "papermill": {
     "duration": 0.06957,
     "end_time": "2021-04-17T13:08:34.604895",
     "exception": false,
     "start_time": "2021-04-17T13:08:34.535325",
     "status": "completed"
    },
    "tags": []
   },
   "outputs": [],
   "source": [
    "class Decoder(tf.keras.Model):\n",
    "    def __init__(self, vocab_size, attention_units, encoder_dim, decoder_dim):\n",
    "        super(Decoder, self).__init__()\n",
    "        self.vocab_size = vocab_size\n",
    "        self.attention_units = attention_units\n",
    "        self.encoder_dim = encoder_dim\n",
    "        self.decoder_dim = decoder_dim\n",
    "        \n",
    "        # LSTM hidden and carry state initialization\n",
    "        self.init_h = tf.keras.layers.Dense(units=decoder_dim, input_shape=[encoder_dim], name='encoder_res_to_hidden_init')\n",
    "        self.init_c = tf.keras.layers.Dense(units=decoder_dim, input_shape=[encoder_dim], name='encoder_res_to_inp_act_init')\n",
    "        # The LSTM cell\n",
    "        self.lstm_cell = tf.keras.layers.LSTMCell(decoder_dim, name='lstm_char_predictor')\n",
    "        # dropout before prediction\n",
    "        self.do = tf.keras.layers.Dropout(0.30, name='prediction_dropout')\n",
    "        # fully connected prediction layer\n",
    "        self.fcn = tf.keras.layers.Dense(units=vocab_size, input_shape=[decoder_dim], dtype=tf.float32, name='lstm_output_to_char_probs')\n",
    "        # character embedding layer\n",
    "        self.embedding = tf.keras.layers.Embedding(vocab_size, decoder_dim)\n",
    "\n",
    "        # used for attention\n",
    "        self.attention = BahdanauAttention(self.attention_units)\n",
    "\n",
    "    def call(self, char, h, c, enc_output, training):\n",
    "        # embed previous character\n",
    "        char = self.embedding(char, training=training)\n",
    "        char = tf.squeeze(char, axis=1)\n",
    "        # get attention alpha and context vector\n",
    "        context, _ = self.attention(h, enc_output, training=training)\n",
    "\n",
    "        # concat context and char to create lstm input\n",
    "        lstm_input = tf.concat((context, char), axis=-1)\n",
    "        \n",
    "        # LSTM call, get new h, c\n",
    "        _, (h_new, c_new) = self.lstm_cell(lstm_input, (h, c), training=training)\n",
    "        \n",
    "        # compute predictions with dropout\n",
    "        output = self.do(h_new, training=training)\n",
    "        output = self.fcn(output, training=training)\n",
    "\n",
    "        return output, h_new, c_new\n",
    "    \n",
    "    def init_hidden_state(self, encoder_out, training):\n",
    "        mean_encoder_out = tf.math.reduce_mean(encoder_out, axis=1)\n",
    "        h = self.init_h(mean_encoder_out, training=training)  # (batch_size, decoder_dim)\n",
    "        c = self.init_c(mean_encoder_out, training=training)\n",
    "        return h, c"
   ]
  },
  {
   "cell_type": "code",
   "execution_count": 26,
   "id": "bacterial-signature",
   "metadata": {
    "execution": {
     "iopub.execute_input": "2021-04-17T13:08:34.717085Z",
     "iopub.status.busy": "2021-04-17T13:08:34.716398Z",
     "iopub.status.idle": "2021-04-17T13:08:35.627689Z",
     "shell.execute_reply": "2021-04-17T13:08:35.626332Z"
    },
    "papermill": {
     "duration": 0.970118,
     "end_time": "2021-04-17T13:08:35.627863",
     "exception": false,
     "start_time": "2021-04-17T13:08:34.657745",
     "status": "completed"
    },
    "tags": []
   },
   "outputs": [
    {
     "name": "stdout",
     "output_type": "stream",
     "text": [
      "Decoder output shape: (batch_size, vocab size) (2, 41)\n"
     ]
    }
   ],
   "source": [
    "with tf.device('/CPU:0'):\n",
    "    decoder = Decoder(VOCAB_SIZE, ATTENTION_UNITS, ENCODER_DIM, DECODER_DIM)\n",
    "    h, c = decoder.init_hidden_state(encoder_res[:BATCH_SIZE_DEBUG], training=False)\n",
    "    preds, h, c = decoder(tf.random.uniform((BATCH_SIZE_DEBUG, 1)), h, c, encoder_res)\n",
    "\n",
    "print ('Decoder output shape: (batch_size, vocab size) {}'.format(preds.shape))"
   ]
  },
  {
   "cell_type": "code",
   "execution_count": 27,
   "id": "appropriate-recorder",
   "metadata": {
    "execution": {
     "iopub.execute_input": "2021-04-17T13:08:35.740386Z",
     "iopub.status.busy": "2021-04-17T13:08:35.739346Z",
     "iopub.status.idle": "2021-04-17T13:08:35.742993Z",
     "shell.execute_reply": "2021-04-17T13:08:35.742456Z"
    },
    "papermill": {
     "duration": 0.062101,
     "end_time": "2021-04-17T13:08:35.743140",
     "exception": false,
     "start_time": "2021-04-17T13:08:35.681039",
     "status": "completed"
    },
    "tags": []
   },
   "outputs": [],
   "source": [
    "# The start/end/pad tokens will be removed from the string when computing the Levenshtein distance\n",
    "START_TOKEN = tf.constant(vocabulary_to_int.get('<start>'), dtype=tf.int64)\n",
    "END_TOKEN = tf.constant(vocabulary_to_int.get('<end>'), dtype=tf.int64)\n",
    "PAD_TOKEN = tf.constant(vocabulary_to_int.get('<pad>'), dtype=tf.int64)"
   ]
  },
  {
   "cell_type": "code",
   "execution_count": 28,
   "id": "eight-hampshire",
   "metadata": {
    "execution": {
     "iopub.execute_input": "2021-04-17T13:08:35.864508Z",
     "iopub.status.busy": "2021-04-17T13:08:35.863360Z",
     "iopub.status.idle": "2021-04-17T13:09:14.718596Z",
     "shell.execute_reply": "2021-04-17T13:09:14.717837Z"
    },
    "papermill": {
     "duration": 38.924217,
     "end_time": "2021-04-17T13:09:14.718770",
     "exception": false,
     "start_time": "2021-04-17T13:08:35.794553",
     "status": "completed"
    },
    "tags": []
   },
   "outputs": [],
   "source": [
    "# initialize the model, a dummy call to the encoder and deocder is made to allow the summaries to be printed\n",
    "with strategy.scope():\n",
    "    # Sparse categorical cross entropy loss is used\n",
    "    loss_object = tf.keras.losses.SparseCategoricalCrossentropy(from_logits=True, reduction=tf.keras.losses.Reduction.NONE)\n",
    "\n",
    "    def loss_function(real, pred):\n",
    "        per_example_loss = loss_object(real, pred)\n",
    "\n",
    "        return tf.nn.compute_average_loss(per_example_loss, global_batch_size=BATCH_SIZE)\n",
    "    \n",
    "    # Metrics\n",
    "    train_accuracy = tf.keras.metrics.SparseCategoricalAccuracy()\n",
    "    train_loss = tf.keras.metrics.Sum()\n",
    "    val_loss = tf.keras.metrics.Sum()\n",
    "\n",
    "\n",
    "    # Encoder\n",
    "    encoder = Encoder()\n",
    "    encoder.build(input_shape=[BATCH_SIZE, IMG_HEIGHT, IMG_WIDTH, N_CHANNELS])\n",
    "    encoder_res = encoder(imgs[:2], training=False)\n",
    "    \n",
    "    # Decoder\n",
    "    decoder = Decoder(VOCAB_SIZE, ATTENTION_UNITS, ENCODER_DIM, DECODER_DIM)\n",
    "    h, c = decoder.init_hidden_state(encoder_res, training=False)\n",
    "    preds, h, c = decoder(lbls[:2, :1], h, c, encoder_res, training=False)\n",
    "    \n",
    "    # Adam Optimizer\n",
    "    optimizer = tf.keras.optimizers.Adam()"
   ]
  },
  {
   "cell_type": "code",
   "execution_count": 29,
   "id": "stock-portal",
   "metadata": {
    "execution": {
     "iopub.execute_input": "2021-04-17T13:09:14.845252Z",
     "iopub.status.busy": "2021-04-17T13:09:14.840074Z",
     "iopub.status.idle": "2021-04-17T13:09:14.875854Z",
     "shell.execute_reply": "2021-04-17T13:09:14.875052Z"
    },
    "papermill": {
     "duration": 0.102802,
     "end_time": "2021-04-17T13:09:14.876054",
     "exception": false,
     "start_time": "2021-04-17T13:09:14.773252",
     "status": "completed"
    },
    "tags": []
   },
   "outputs": [
    {
     "name": "stdout",
     "output_type": "stream",
     "text": [
      "Model: \"encoder_1\"\n",
      "_________________________________________________________________\n",
      "Layer (type)                 Output Shape              Param #   \n",
      "=================================================================\n",
      "efficientnet-b4 (Functional) (None, None, None, 1792)  17673816  \n",
      "_________________________________________________________________\n",
      "reshape_featuere_maps (Resha multiple                  0         \n",
      "_________________________________________________________________\n",
      "permutate_features_last (Per multiple                  0         \n",
      "=================================================================\n",
      "Total params: 17,673,816\n",
      "Trainable params: 17,548,616\n",
      "Non-trainable params: 125,200\n",
      "_________________________________________________________________\n"
     ]
    }
   ],
   "source": [
    "encoder.summary()"
   ]
  },
  {
   "cell_type": "code",
   "execution_count": 30,
   "id": "extensive-immunology",
   "metadata": {
    "execution": {
     "iopub.execute_input": "2021-04-17T13:09:14.989349Z",
     "iopub.status.busy": "2021-04-17T13:09:14.988293Z",
     "iopub.status.idle": "2021-04-17T13:09:14.995073Z",
     "shell.execute_reply": "2021-04-17T13:09:14.995811Z"
    },
    "papermill": {
     "duration": 0.066196,
     "end_time": "2021-04-17T13:09:14.996022",
     "exception": false,
     "start_time": "2021-04-17T13:09:14.929826",
     "status": "completed"
    },
    "tags": []
   },
   "outputs": [
    {
     "name": "stdout",
     "output_type": "stream",
     "text": [
      "Model: \"decoder_1\"\n",
      "_________________________________________________________________\n",
      "Layer (type)                 Output Shape              Param #   \n",
      "=================================================================\n",
      "encoder_res_to_hidden_init ( multiple                  115712    \n",
      "_________________________________________________________________\n",
      "encoder_res_to_inp_act_init  multiple                  115712    \n",
      "_________________________________________________________________\n",
      "lstm_char_predictor (LSTMCel multiple                  8851456   \n",
      "_________________________________________________________________\n",
      "prediction_dropout (Dropout) multiple                  0         \n",
      "_________________________________________________________________\n",
      "lstm_output_to_char_probs (D multiple                  42025     \n",
      "_________________________________________________________________\n",
      "embedding_1 (Embedding)      multiple                  41984     \n",
      "_________________________________________________________________\n",
      "bahdanau_attention_2 (Bahdan multiple                  583169    \n",
      "=================================================================\n",
      "Total params: 9,750,058\n",
      "Trainable params: 9,750,058\n",
      "Non-trainable params: 0\n",
      "_________________________________________________________________\n"
     ]
    }
   ],
   "source": [
    "decoder.summary()"
   ]
  },
  {
   "cell_type": "code",
   "execution_count": 31,
   "id": "naked-coordinator",
   "metadata": {
    "execution": {
     "iopub.execute_input": "2021-04-17T13:09:15.108928Z",
     "iopub.status.busy": "2021-04-17T13:09:15.108068Z",
     "iopub.status.idle": "2021-04-17T13:09:15.111920Z",
     "shell.execute_reply": "2021-04-17T13:09:15.111249Z"
    },
    "papermill": {
     "duration": 0.062884,
     "end_time": "2021-04-17T13:09:15.112060",
     "exception": false,
     "start_time": "2021-04-17T13:09:15.049176",
     "status": "completed"
    },
    "tags": []
   },
   "outputs": [],
   "source": [
    "# Training configuration\n",
    "EPOCHS = 28\n",
    "WARMUP_STEPS = 500 \n",
    "TRAIN_STEPS = 1000 \n",
    "VERBOSE_FREQ = 100 \n",
    "STEPS_PER_EPOCH = TRAIN_STEPS // VERBOSE_FREQ\n",
    "TOTAL_STEPS = EPOCHS * TRAIN_STEPS"
   ]
  },
  {
   "cell_type": "code",
   "execution_count": 32,
   "id": "gross-devon",
   "metadata": {
    "execution": {
     "iopub.execute_input": "2021-04-17T13:09:15.224104Z",
     "iopub.status.busy": "2021-04-17T13:09:15.223105Z",
     "iopub.status.idle": "2021-04-17T13:09:15.226650Z",
     "shell.execute_reply": "2021-04-17T13:09:15.226104Z"
    },
    "papermill": {
     "duration": 0.062493,
     "end_time": "2021-04-17T13:09:15.226793",
     "exception": false,
     "start_time": "2021-04-17T13:09:15.164300",
     "status": "completed"
    },
    "tags": []
   },
   "outputs": [],
   "source": [
    "def lrfn(step, WARMUP_LR_START, LR_START, LR_FINAL, DECAYS):\n",
    "    # exponential warmup\n",
    "    if step < WARMUP_STEPS:\n",
    "        warmup_factor = (step / WARMUP_STEPS) ** 2\n",
    "        lr = WARMUP_LR_START + (LR_START - WARMUP_LR_START) * warmup_factor\n",
    "    # staircase decay\n",
    "    else:\n",
    "        power = (step - WARMUP_STEPS) // ((TOTAL_STEPS - WARMUP_STEPS) / (DECAYS + 1))\n",
    "        decay_factor =  ((LR_START / LR_FINAL) ** (1 / DECAYS)) ** power\n",
    "        lr = LR_START / decay_factor\n",
    "\n",
    "    return round(lr, 8)"
   ]
  },
  {
   "cell_type": "code",
   "execution_count": 33,
   "id": "associate-membership",
   "metadata": {
    "execution": {
     "iopub.execute_input": "2021-04-17T13:09:15.372192Z",
     "iopub.status.busy": "2021-04-17T13:09:15.340789Z",
     "iopub.status.idle": "2021-04-17T13:09:15.580678Z",
     "shell.execute_reply": "2021-04-17T13:09:15.580092Z"
    },
    "papermill": {
     "duration": 0.301544,
     "end_time": "2021-04-17T13:09:15.580820",
     "exception": false,
     "start_time": "2021-04-17T13:09:15.279276",
     "status": "completed"
    },
    "tags": []
   },
   "outputs": [
    {
     "data": {
      "image/png": "[encoded data removed]",
      "text/plain": [
       "<Figure size 1080x576 with 1 Axes>"
      ]
     },
     "metadata": {
      "needs_background": "light"
     },
     "output_type": "display_data"
    }
   ],
   "source": [
    "# plot the learning rate schedule\n",
    "def plot_lr_schedule(lr_schedule, name):\n",
    "    plt.figure(figsize=(15,8))\n",
    "    plt.plot(lr_schedule)\n",
    "    schedule_info = f'start: {lr_schedule[0]}, max: {max(lr_schedule)}, final: {lr_schedule[-1]}'\n",
    "    plt.title(f'Step Learning Rate Schedule {name}, {schedule_info}', size=16)\n",
    "    plt.grid()\n",
    "    plt.show()\n",
    "\n",
    "# Learning rate for encoder\n",
    "LR_SCHEDULE = [lrfn(step, 1e-6, 5e-3, 5e-4 ,EPOCHS) for step in range(TOTAL_STEPS)]\n",
    "plot_lr_schedule(LR_SCHEDULE, 'Encoder')"
   ]
  },
  {
   "cell_type": "code",
   "execution_count": 34,
   "id": "minus-press",
   "metadata": {
    "execution": {
     "iopub.execute_input": "2021-04-17T13:09:15.701226Z",
     "iopub.status.busy": "2021-04-17T13:09:15.700516Z",
     "iopub.status.idle": "2021-04-17T13:09:15.703970Z",
     "shell.execute_reply": "2021-04-17T13:09:15.703378Z"
    },
    "papermill": {
     "duration": 0.06959,
     "end_time": "2021-04-17T13:09:15.704116",
     "exception": false,
     "start_time": "2021-04-17T13:09:15.634526",
     "status": "completed"
    },
    "tags": []
   },
   "outputs": [],
   "source": [
    "# converts a dense to a sparse tensor\n",
    "# sparse tensors are required to compute the Levenshtein distance\n",
    "def dense_to_sparse(dense):\n",
    "    ones = tf.ones(dense.shape)\n",
    "    indices = tf.where(ones)\n",
    "    values = tf.gather_nd(dense, indices)\n",
    "    sparse = tf.SparseTensor(indices, values, dense.shape)\n",
    "    \n",
    "    return sparse\n",
    "\n",
    "# computes the levenshtein distance between the predictions and labels\n",
    "def get_levenshtein_distance(preds, lbls):\n",
    "    preds = tf.cast(preds, tf.int64)\n",
    "\n",
    "    preds = tf.where(tf.not_equal(preds, START_TOKEN) & tf.not_equal(preds, END_TOKEN) & tf.not_equal(preds, PAD_TOKEN), preds, y=0)\n",
    "    \n",
    "    lbls = strategy.gather(lbls, axis=0)\n",
    "    lbls = tf.cast(lbls, tf.int64)\n",
    "    lbls = tf.where(tf.not_equal(lbls, START_TOKEN) & tf.not_equal(lbls, END_TOKEN) & tf.not_equal(lbls, PAD_TOKEN), lbls, y=0)\n",
    "    \n",
    "    preds_sparse = dense_to_sparse(preds)\n",
    "    lbls_sparse = dense_to_sparse(lbls)\n",
    "\n",
    "    batch_distance = tf.edit_distance(preds_sparse, lbls_sparse, normalize=False)\n",
    "    mean_distance = tf.math.reduce_mean(batch_distance)\n",
    "    \n",
    "    return mean_distance"
   ]
  },
  {
   "cell_type": "code",
   "execution_count": 35,
   "id": "detailed-orchestra",
   "metadata": {
    "execution": {
     "iopub.execute_input": "2021-04-17T13:09:15.824977Z",
     "iopub.status.busy": "2021-04-17T13:09:15.824236Z",
     "iopub.status.idle": "2021-04-17T13:09:15.828289Z",
     "shell.execute_reply": "2021-04-17T13:09:15.827689Z"
    },
    "papermill": {
     "duration": 0.070232,
     "end_time": "2021-04-17T13:09:15.828445",
     "exception": false,
     "start_time": "2021-04-17T13:09:15.758213",
     "status": "completed"
    },
    "tags": []
   },
   "outputs": [],
   "source": [
    "@tf.function()\n",
    "def distributed_train_step(dataset):\n",
    "    # Step function\n",
    "    def train_step(inp, targ):\n",
    "        total_loss = 0.0\n",
    "\n",
    "        with tf.GradientTape() as tape:\n",
    "            enc_output = encoder(inp, training=True)\n",
    "            h, c = decoder.init_hidden_state(enc_output, training=True)\n",
    "            dec_input = tf.expand_dims(targ[:, 0], 1)\n",
    "\n",
    "            # Teacher forcing - feeding the target as the next input\n",
    "            for idx in range(1, SEQ_LEN_OUT):\n",
    "                t = targ[:, idx]\n",
    "                t = tf.reshape(t, [BATCH_SIZE_BASE])\n",
    "                # passing enc_output to the decoder\n",
    "                predictions, h, c = decoder(dec_input, h, c, enc_output, training=True)\n",
    "\n",
    "                # update loss and train metrics\n",
    "                total_loss += loss_function(t, predictions)\n",
    "                train_accuracy.update_state(t, predictions)\n",
    "                # using teacher forcing\n",
    "                dec_input = tf.expand_dims(t, 1)\n",
    "\n",
    "        variables = encoder.trainable_variables + decoder.trainable_variables\n",
    "        gradients = tape.gradient(total_loss, variables)\n",
    "        gradients, _ = tf.clip_by_global_norm(gradients, 10.0)\n",
    "        optimizer.apply_gradients(zip(gradients, variables))\n",
    "\n",
    "        batch_loss = total_loss / (SEQ_LEN_OUT - 1)\n",
    "        train_loss.update_state(batch_loss)\n",
    "    \n",
    "    # reset metrics\n",
    "    train_loss.reset_states()\n",
    "    train_accuracy.reset_states()\n",
    "    # perform VERBOSE_FREQ train steps\n",
    "    for _ in tf.range(tf.convert_to_tensor(VERBOSE_FREQ)):\n",
    "        strategy.run(train_step, args=next(dataset))"
   ]
  },
  {
   "cell_type": "code",
   "execution_count": 36,
   "id": "liquid-columbia",
   "metadata": {
    "execution": {
     "iopub.execute_input": "2021-04-17T13:09:15.949318Z",
     "iopub.status.busy": "2021-04-17T13:09:15.948578Z",
     "iopub.status.idle": "2021-04-17T13:09:15.952070Z",
     "shell.execute_reply": "2021-04-17T13:09:15.951499Z"
    },
    "papermill": {
     "duration": 0.067963,
     "end_time": "2021-04-17T13:09:15.952233",
     "exception": false,
     "start_time": "2021-04-17T13:09:15.884270",
     "status": "completed"
    },
    "tags": []
   },
   "outputs": [],
   "source": [
    "def validation_step(inp, targ):\n",
    "    total_loss = 0.0\n",
    "    enc_output = encoder(inp, training=False)\n",
    "    h, c = decoder.init_hidden_state(enc_output, training=False)\n",
    "    dec_input = tf.expand_dims(targ[:, 0], 1)\n",
    "\n",
    "    predictions_seq = tf.expand_dims(targ[:, 0], 1)\n",
    "\n",
    "    # Teacher forcing - feeding the target as the next input\n",
    "    for t in range(1, SEQ_LEN_OUT):\n",
    "        # passing enc_output to the decoder\n",
    "        predictions, h, c = decoder(dec_input, h, c, enc_output, training=False)\n",
    "\n",
    "        # add loss \n",
    "        # update loss and train metrics\n",
    "        total_loss += loss_function(targ[:, t], predictions)\n",
    "        \n",
    "        # add predictions to pred_seq\n",
    "        dec_input = tf.math.argmax(predictions, axis=1, output_type=tf.int32)\n",
    "        dec_input = tf.expand_dims(dec_input, axis=1)\n",
    "        dec_input = tf.cast(dec_input, LABEL_DTYPE)\n",
    "        predictions_seq = tf.concat([predictions_seq, dec_input], axis=1)\n",
    "        \n",
    "    batch_loss = total_loss / (SEQ_LEN_OUT - 1)\n",
    "    val_loss.update_state(batch_loss)\n",
    "    \n",
    "    return predictions_seq"
   ]
  },
  {
   "cell_type": "code",
   "execution_count": 37,
   "id": "regulated-trunk",
   "metadata": {
    "execution": {
     "iopub.execute_input": "2021-04-17T13:09:16.067315Z",
     "iopub.status.busy": "2021-04-17T13:09:16.066582Z",
     "iopub.status.idle": "2021-04-17T13:09:16.069659Z",
     "shell.execute_reply": "2021-04-17T13:09:16.070218Z"
    },
    "papermill": {
     "duration": 0.063291,
     "end_time": "2021-04-17T13:09:16.070388",
     "exception": false,
     "start_time": "2021-04-17T13:09:16.007097",
     "status": "completed"
    },
    "tags": []
   },
   "outputs": [],
   "source": [
    "@tf.function\n",
    "def distributed_val_step(dataset):\n",
    "    inp_val, targ_val = next(dataset)\n",
    "    per_replica_predictions_seq = strategy.run(validation_step, args=(inp_val, targ_val))\n",
    "    predictions_seq = strategy.gather(per_replica_predictions_seq, axis=0)\n",
    "    \n",
    "    return predictions_seq, targ_val"
   ]
  },
  {
   "cell_type": "code",
   "execution_count": 38,
   "id": "competent-panic",
   "metadata": {
    "execution": {
     "iopub.execute_input": "2021-04-17T13:09:16.184136Z",
     "iopub.status.busy": "2021-04-17T13:09:16.183319Z",
     "iopub.status.idle": "2021-04-17T13:09:16.189021Z",
     "shell.execute_reply": "2021-04-17T13:09:16.188484Z"
    },
    "papermill": {
     "duration": 0.06346,
     "end_time": "2021-04-17T13:09:16.189165",
     "exception": false,
     "start_time": "2021-04-17T13:09:16.125705",
     "status": "completed"
    },
    "tags": []
   },
   "outputs": [],
   "source": [
    "def get_val_metrics(val_dist_dataset):\n",
    "    # reset metrics\n",
    "    val_loss.reset_states()\n",
    "    total_ls_distance = 0.0\n",
    "    \n",
    "    for step in range(VAL_STEPS):\n",
    "        predictions_seq, targ = distributed_val_step(val_dist_dataset)\n",
    "        levenshtein_distance = get_levenshtein_distance(predictions_seq, targ)\n",
    "        total_ls_distance += levenshtein_distance\n",
    "    \n",
    "    return total_ls_distance / VAL_STEPS"
   ]
  },
  {
   "cell_type": "code",
   "execution_count": 39,
   "id": "limiting-testimony",
   "metadata": {
    "execution": {
     "iopub.execute_input": "2021-04-17T13:09:16.309969Z",
     "iopub.status.busy": "2021-04-17T13:09:16.307946Z",
     "iopub.status.idle": "2021-04-17T13:09:16.310737Z",
     "shell.execute_reply": "2021-04-17T13:09:16.311224Z"
    },
    "papermill": {
     "duration": 0.067052,
     "end_time": "2021-04-17T13:09:16.311418",
     "exception": false,
     "start_time": "2021-04-17T13:09:16.244366",
     "status": "completed"
    },
    "tags": []
   },
   "outputs": [],
   "source": [
    "def log(batch, t_start_batch, val_ls_distance=False):\n",
    "    print(\n",
    "        f'Step %s|' % f'{batch * VERBOSE_FREQ}/{TRAIN_STEPS}'.ljust(10, ' '),\n",
    "        f'loss: %.3f,' % (train_loss.result() / VERBOSE_FREQ),\n",
    "        f'acc: %.3f, ' % train_accuracy.result(),\n",
    "    end='')\n",
    "    \n",
    "    if val_ls_distance:\n",
    "        print(\n",
    "            f'val_loss: %.3f, ' % (val_loss.result() / VERBOSE_FREQ),\n",
    "            f'val lsd: %s,' % ('%.1f' % val_ls_distance).ljust(5, ' '),\n",
    "        end='')\n",
    "    # always end with batch duration and line break\n",
    "    print(\n",
    "        f'lr: %s,' % ('%.1E' % LRREDUCE.get_lr()).ljust(7),\n",
    "        f't: %s sec' % int(time.time() - t_start_batch),\n",
    "    )"
   ]
  },
  {
   "cell_type": "code",
   "execution_count": 40,
   "id": "historical-intention",
   "metadata": {
    "execution": {
     "iopub.execute_input": "2021-04-17T13:09:16.433665Z",
     "iopub.status.busy": "2021-04-17T13:09:16.432668Z",
     "iopub.status.idle": "2021-04-17T13:09:16.436207Z",
     "shell.execute_reply": "2021-04-17T13:09:16.435571Z"
    },
    "papermill": {
     "duration": 0.067267,
     "end_time": "2021-04-17T13:09:16.436341",
     "exception": false,
     "start_time": "2021-04-17T13:09:16.369074",
     "status": "completed"
    },
    "tags": []
   },
   "outputs": [],
   "source": [
    "class Stats():\n",
    "    def __init__(self):\n",
    "        self.stats = {\n",
    "            'train_loss': [],\n",
    "            'train_acc': [],\n",
    "        }\n",
    "        \n",
    "    def update_stats(self):\n",
    "        self.stats['train_loss'].append(train_loss.result() / VERBOSE_FREQ)\n",
    "        self.stats['train_acc'].append(train_accuracy.result())\n",
    "        \n",
    "    def get_stats(self, metric):\n",
    "        return self.stats[metric]\n",
    "        \n",
    "    def plot_stat(self, metric):\n",
    "        plt.figure(figsize=(15,8))\n",
    "        plt.xticks(fontsize=16)\n",
    "        plt.yticks(fontsize=16)\n",
    "        plt.plot(self.stats[metric])\n",
    "        plt.grid()\n",
    "        plt.title(f'{metric} stats', size=24)\n",
    "        plt.show()\n",
    "        \n",
    "STATS = Stats()"
   ]
  },
  {
   "cell_type": "code",
   "execution_count": 41,
   "id": "horizontal-capacity",
   "metadata": {
    "execution": {
     "iopub.execute_input": "2021-04-17T13:09:16.556511Z",
     "iopub.status.busy": "2021-04-17T13:09:16.555271Z",
     "iopub.status.idle": "2021-04-17T13:09:16.589063Z",
     "shell.execute_reply": "2021-04-17T13:09:16.588342Z"
    },
    "papermill": {
     "duration": 0.096899,
     "end_time": "2021-04-17T13:09:16.589210",
     "exception": false,
     "start_time": "2021-04-17T13:09:16.492311",
     "status": "completed"
    },
    "tags": []
   },
   "outputs": [],
   "source": [
    "# custom learning rate scheduler\n",
    "class LRReduce():\n",
    "    def __init__(self, optimizer, lr_schedule):\n",
    "        self.opt = optimizer\n",
    "        self.lr_schedule = lr_schedule\n",
    "        # assign initial learning rate\n",
    "        self.lr = lr_schedule[0]\n",
    "        self.opt.learning_rate.assign(self.lr)\n",
    "        \n",
    "    def step(self, step):\n",
    "        self.lr = self.lr_schedule[step]\n",
    "        # assign learning rate to optimizer\n",
    "        self.opt.learning_rate.assign(self.lr)\n",
    "        \n",
    "    def get_counter(self):\n",
    "        return self.c\n",
    "    \n",
    "    def get_lr(self):\n",
    "        return self.lr\n",
    "        \n",
    "LRREDUCE = LRReduce(optimizer, LR_SCHEDULE)"
   ]
  },
  {
   "cell_type": "code",
   "execution_count": 42,
   "id": "obvious-force",
   "metadata": {
    "execution": {
     "iopub.execute_input": "2021-04-17T13:09:16.714308Z",
     "iopub.status.busy": "2021-04-17T13:09:16.713246Z",
     "iopub.status.idle": "2021-04-17T20:50:48.812877Z",
     "shell.execute_reply": "2021-04-17T20:50:48.813408Z"
    },
    "papermill": {
     "duration": 27692.168723,
     "end_time": "2021-04-17T20:50:48.813589",
     "exception": false,
     "start_time": "2021-04-17T13:09:16.644866",
     "status": "completed"
    },
    "tags": []
   },
   "outputs": [
    {
     "name": "stdout",
     "output_type": "stream",
     "text": [
      "***** EPOCH 1 *****\n",
      "Step 100/1000  | loss: 3.696, acc: 0.047, lr: 1.0E-06, t: 440 sec\n",
      "Step 200/1000  | loss: 1.557, acc: 0.566, lr: 2.0E-04, t: 96 sec\n",
      "Step 300/1000  | loss: 0.822, acc: 0.707, lr: 7.9E-04, t: 96 sec\n",
      "Step 400/1000  | loss: 0.640, acc: 0.758, lr: 1.8E-03, t: 96 sec\n",
      "Step 500/1000  | loss: 0.537, acc: 0.795, lr: 3.2E-03, t: 96 sec\n",
      "Step 600/1000  | loss: 0.447, acc: 0.828, lr: 5.0E-03, t: 96 sec\n",
      "Step 700/1000  | loss: 0.369, acc: 0.858, lr: 5.0E-03, t: 96 sec\n",
      "Step 800/1000  | loss: 0.328, acc: 0.873, lr: 5.0E-03, t: 96 sec\n",
      "Step 900/1000  | loss: 0.301, acc: 0.883, lr: 5.0E-03, t: 96 sec\n",
      "Step 1000/1000 | loss: 0.278, acc: 0.892, val_loss: 0.997,  val lsd: 66.4 ,lr: 5.0E-03, t: 152 sec\n",
      "Epoch 0 Loss 0.897, time: 1366 sec\n",
      "\n",
      "***** EPOCH 2 *****\n",
      "Step 100/1000  | loss: 0.261, acc: 0.899, lr: 5.0E-03, t: 98 sec\n",
      "Step 200/1000  | loss: 0.243, acc: 0.906, lr: 5.0E-03, t: 96 sec\n",
      "Step 300/1000  | loss: 0.230, acc: 0.911, lr: 5.0E-03, t: 96 sec\n",
      "Step 400/1000  | loss: 0.218, acc: 0.915, lr: 5.0E-03, t: 96 sec\n",
      "Step 500/1000  | loss: 0.208, acc: 0.919, lr: 5.0E-03, t: 96 sec\n",
      "Step 600/1000  | loss: 0.196, acc: 0.924, lr: 4.6E-03, t: 96 sec\n",
      "Step 700/1000  | loss: 0.189, acc: 0.927, lr: 4.6E-03, t: 96 sec\n",
      "Step 800/1000  | loss: 0.182, acc: 0.929, lr: 4.6E-03, t: 96 sec\n",
      "Step 900/1000  | loss: 0.175, acc: 0.932, lr: 4.6E-03, t: 96 sec\n",
      "Step 1000/1000 | loss: 0.169, acc: 0.935, val_loss: 0.954,  val lsd: 49.4 ,lr: 4.6E-03, t: 102 sec\n",
      "Epoch 1 Loss 0.207, time: 975 sec\n",
      "\n",
      "***** EPOCH 3 *****\n",
      "Step 100/1000  | loss: 0.164, acc: 0.936, lr: 4.6E-03, t: 97 sec\n",
      "Step 200/1000  | loss: 0.158, acc: 0.939, lr: 4.6E-03, t: 96 sec\n",
      "Step 300/1000  | loss: 0.156, acc: 0.940, lr: 4.6E-03, t: 96 sec\n",
      "Step 400/1000  | loss: 0.151, acc: 0.942, lr: 4.6E-03, t: 96 sec\n",
      "Step 500/1000  | loss: 0.143, acc: 0.945, lr: 4.2E-03, t: 96 sec\n",
      "Step 600/1000  | loss: 0.139, acc: 0.946, lr: 4.2E-03, t: 96 sec\n",
      "Step 700/1000  | loss: 0.138, acc: 0.947, lr: 4.2E-03, t: 96 sec\n",
      "Step 800/1000  | loss: 0.134, acc: 0.948, lr: 4.2E-03, t: 96 sec\n",
      "Step 900/1000  | loss: 0.130, acc: 0.950, lr: 4.2E-03, t: 96 sec\n",
      "Step 1000/1000 | loss: 0.128, acc: 0.951, val_loss: 0.846,  val lsd: 40.5 ,lr: 4.2E-03, t: 102 sec\n",
      "Epoch 2 Loss 0.144, time: 974 sec\n",
      "\n",
      "***** EPOCH 4 *****\n",
      "Step 100/1000  | loss: 0.126, acc: 0.952, lr: 4.2E-03, t: 98 sec\n",
      "Step 200/1000  | loss: 0.123, acc: 0.953, lr: 4.2E-03, t: 96 sec\n",
      "Step 300/1000  | loss: 0.119, acc: 0.954, lr: 4.2E-03, t: 96 sec\n",
      "Step 400/1000  | loss: 0.118, acc: 0.955, lr: 4.2E-03, t: 96 sec\n",
      "Step 500/1000  | loss: 0.114, acc: 0.956, lr: 3.9E-03, t: 96 sec\n",
      "Step 600/1000  | loss: 0.111, acc: 0.957, lr: 3.9E-03, t: 96 sec\n",
      "Step 700/1000  | loss: 0.110, acc: 0.958, lr: 3.9E-03, t: 96 sec\n",
      "Step 800/1000  | loss: 0.108, acc: 0.958, lr: 3.9E-03, t: 96 sec\n",
      "Step 900/1000  | loss: 0.105, acc: 0.960, lr: 3.9E-03, t: 96 sec\n",
      "Step 1000/1000 | loss: 0.103, acc: 0.960, val_loss: 0.856,  val lsd: 37.3 ,lr: 3.9E-03, t: 103 sec\n",
      "Epoch 3 Loss 0.114, time: 976 sec\n",
      "\n",
      "***** EPOCH 5 *****\n",
      "Step 100/1000  | loss: 0.104, acc: 0.960, lr: 3.9E-03, t: 98 sec\n",
      "Step 200/1000  | loss: 0.101, acc: 0.961, lr: 3.9E-03, t: 96 sec\n",
      "Step 300/1000  | loss: 0.101, acc: 0.961, lr: 3.9E-03, t: 96 sec\n",
      "Step 400/1000  | loss: 0.096, acc: 0.963, lr: 3.6E-03, t: 96 sec\n",
      "Step 500/1000  | loss: 0.094, acc: 0.964, lr: 3.6E-03, t: 96 sec\n",
      "Step 600/1000  | loss: 0.094, acc: 0.964, lr: 3.6E-03, t: 96 sec\n",
      "Step 700/1000  | loss: 0.093, acc: 0.964, lr: 3.6E-03, t: 96 sec\n",
      "Step 800/1000  | loss: 0.091, acc: 0.965, lr: 3.6E-03, t: 96 sec\n",
      "Step 900/1000  | loss: 0.088, acc: 0.966, lr: 3.6E-03, t: 96 sec\n",
      "Step 1000/1000 | loss: 0.090, acc: 0.966, val_loss: 0.677,  val lsd: 29.4 ,lr: 3.6E-03, t: 102 sec\n",
      "Epoch 4 Loss 0.095, time: 974 sec\n",
      "\n",
      "***** EPOCH 6 *****\n",
      "Step 100/1000  | loss: 0.089, acc: 0.966, lr: 3.6E-03, t: 97 sec\n",
      "Step 200/1000  | loss: 0.085, acc: 0.967, lr: 3.6E-03, t: 96 sec\n",
      "Step 300/1000  | loss: 0.087, acc: 0.967, lr: 3.6E-03, t: 96 sec\n",
      "Step 400/1000  | loss: 0.083, acc: 0.968, lr: 3.3E-03, t: 96 sec\n",
      "Step 500/1000  | loss: 0.081, acc: 0.969, lr: 3.3E-03, t: 96 sec\n",
      "Step 600/1000  | loss: 0.079, acc: 0.970, lr: 3.3E-03, t: 96 sec\n",
      "Step 700/1000  | loss: 0.080, acc: 0.969, lr: 3.3E-03, t: 96 sec\n",
      "Step 800/1000  | loss: 0.078, acc: 0.970, lr: 3.3E-03, t: 96 sec\n",
      "Step 900/1000  | loss: 0.076, acc: 0.971, lr: 3.3E-03, t: 96 sec\n",
      "Step 1000/1000 | loss: 0.115, acc: 0.958, val_loss: 0.740,  val lsd: 30.3 ,lr: 3.3E-03, t: 102 sec\n",
      "Epoch 5 Loss 0.085, time: 974 sec\n",
      "\n",
      "***** EPOCH 7 *****\n",
      "Step 100/1000  | loss: 0.081, acc: 0.969, lr: 3.3E-03, t: 98 sec\n",
      "Step 200/1000  | loss: 0.078, acc: 0.970, lr: 3.3E-03, t: 96 sec\n",
      "Step 300/1000  | loss: 0.075, acc: 0.971, lr: 3.1E-03, t: 96 sec\n",
      "Step 400/1000  | loss: 0.073, acc: 0.972, lr: 3.1E-03, t: 96 sec\n",
      "Step 500/1000  | loss: 0.073, acc: 0.972, lr: 3.1E-03, t: 96 sec\n",
      "Step 600/1000  | loss: 0.069, acc: 0.974, lr: 3.1E-03, t: 96 sec\n",
      "Step 700/1000  | loss: 0.070, acc: 0.973, lr: 3.1E-03, t: 96 sec\n",
      "Step 800/1000  | loss: 0.069, acc: 0.974, lr: 3.1E-03, t: 96 sec\n",
      "Step 900/1000  | loss: 0.068, acc: 0.974, lr: 3.1E-03, t: 96 sec\n",
      "Step 1000/1000 | loss: 0.068, acc: 0.974, val_loss: 0.642,  val lsd: 25.0 ,lr: 3.1E-03, t: 102 sec\n",
      "Epoch 6 Loss 0.072, time: 975 sec\n",
      "\n",
      "***** EPOCH 8 *****\n",
      "Step 100/1000  | loss: 0.068, acc: 0.974, lr: 3.1E-03, t: 99 sec\n",
      "Step 200/1000  | loss: 0.065, acc: 0.975, lr: 3.1E-03, t: 96 sec\n",
      "Step 300/1000  | loss: 0.064, acc: 0.976, lr: 2.8E-03, t: 96 sec\n",
      "Step 400/1000  | loss: 0.064, acc: 0.976, lr: 2.8E-03, t: 96 sec\n",
      "Step 500/1000  | loss: 0.065, acc: 0.976, lr: 2.8E-03, t: 96 sec\n",
      "Step 600/1000  | loss: 0.063, acc: 0.976, lr: 2.8E-03, t: 96 sec\n",
      "Step 700/1000  | loss: 0.064, acc: 0.976, lr: 2.8E-03, t: 96 sec\n",
      "Step 800/1000  | loss: 0.065, acc: 0.976, lr: 2.8E-03, t: 96 sec\n",
      "Step 900/1000  | loss: 0.061, acc: 0.977, lr: 2.8E-03, t: 96 sec\n",
      "Step 1000/1000 | loss: 0.061, acc: 0.977, val_loss: 0.630,  val lsd: 23.5 ,lr: 2.8E-03, t: 103 sec\n",
      "Epoch 7 Loss 0.064, time: 977 sec\n",
      "\n",
      "***** EPOCH 9 *****\n",
      "Step 100/1000  | loss: 0.062, acc: 0.977, lr: 2.8E-03, t: 98 sec\n",
      "Step 200/1000  | loss: 0.059, acc: 0.978, lr: 2.6E-03, t: 96 sec\n",
      "Step 300/1000  | loss: 0.058, acc: 0.978, lr: 2.6E-03, t: 96 sec\n",
      "Step 400/1000  | loss: 0.059, acc: 0.978, lr: 2.6E-03, t: 96 sec\n",
      "Step 500/1000  | loss: 0.057, acc: 0.978, lr: 2.6E-03, t: 96 sec\n",
      "Step 600/1000  | loss: 0.056, acc: 0.979, lr: 2.6E-03, t: 96 sec\n",
      "Step 700/1000  | loss: 0.056, acc: 0.979, lr: 2.6E-03, t: 96 sec\n",
      "Step 800/1000  | loss: 0.054, acc: 0.980, lr: 2.6E-03, t: 96 sec\n",
      "Step 900/1000  | loss: 0.059, acc: 0.978, lr: 2.6E-03, t: 96 sec\n",
      "Step 1000/1000 | loss: 0.057, acc: 0.979, val_loss: 0.750,  val lsd: 27.6 ,lr: 2.6E-03, t: 102 sec\n",
      "Epoch 8 Loss 0.058, time: 975 sec\n",
      "\n",
      "***** EPOCH 10 *****\n",
      "Step 100/1000  | loss: 0.055, acc: 0.979, lr: 2.6E-03, t: 98 sec\n",
      "Step 200/1000  | loss: 0.052, acc: 0.980, lr: 2.4E-03, t: 96 sec\n",
      "Step 300/1000  | loss: 0.053, acc: 0.980, lr: 2.4E-03, t: 96 sec\n",
      "Step 400/1000  | loss: 0.051, acc: 0.981, lr: 2.4E-03, t: 96 sec\n",
      "Step 500/1000  | loss: 0.051, acc: 0.981, lr: 2.4E-03, t: 96 sec\n",
      "Step 600/1000  | loss: 0.051, acc: 0.981, lr: 2.4E-03, t: 96 sec\n",
      "Step 700/1000  | loss: 0.051, acc: 0.981, lr: 2.4E-03, t: 96 sec\n",
      "Step 800/1000  | loss: 0.049, acc: 0.981, lr: 2.4E-03, t: 96 sec\n",
      "Step 900/1000  | loss: 0.050, acc: 0.981, lr: 2.4E-03, t: 96 sec\n",
      "Step 1000/1000 | loss: 0.052, acc: 0.981, val_loss: 0.500,  val lsd: 18.7 ,lr: 2.4E-03, t: 102 sec\n",
      "Epoch 9 Loss 0.052, time: 974 sec\n",
      "\n",
      "***** EPOCH 11 *****\n",
      "Step 100/1000  | loss: 0.049, acc: 0.982, lr: 2.2E-03, t: 97 sec\n",
      "Step 200/1000  | loss: 0.047, acc: 0.982, lr: 2.2E-03, t: 96 sec\n",
      "Step 300/1000  | loss: 0.047, acc: 0.982, lr: 2.2E-03, t: 96 sec\n",
      "Step 400/1000  | loss: 0.048, acc: 0.982, lr: 2.2E-03, t: 96 sec\n",
      "Step 500/1000  | loss: 0.047, acc: 0.983, lr: 2.2E-03, t: 96 sec\n",
      "Step 600/1000  | loss: 0.047, acc: 0.983, lr: 2.2E-03, t: 96 sec\n",
      "Step 700/1000  | loss: 0.049, acc: 0.982, lr: 2.2E-03, t: 96 sec\n",
      "Step 800/1000  | loss: 0.046, acc: 0.983, lr: 2.2E-03, t: 96 sec\n",
      "Step 900/1000  | loss: 0.045, acc: 0.983, lr: 2.2E-03, t: 96 sec\n",
      "Step 1000/1000 | loss: 0.045, acc: 0.983, val_loss: 0.481,  val lsd: 17.9 ,lr: 2.2E-03, t: 102 sec\n",
      "Epoch 10 Loss 0.047, time: 974 sec\n",
      "\n",
      "***** EPOCH 12 *****\n",
      "Step 100/1000  | loss: 0.044, acc: 0.983, lr: 2.0E-03, t: 98 sec\n",
      "Step 200/1000  | loss: 0.043, acc: 0.984, lr: 2.0E-03, t: 96 sec\n",
      "Step 300/1000  | loss: 0.043, acc: 0.984, lr: 2.0E-03, t: 96 sec\n",
      "Step 400/1000  | loss: 0.042, acc: 0.984, lr: 2.0E-03, t: 96 sec\n",
      "Step 500/1000  | loss: 0.042, acc: 0.984, lr: 2.0E-03, t: 96 sec\n",
      "Step 600/1000  | loss: 0.042, acc: 0.984, lr: 2.0E-03, t: 96 sec\n",
      "Step 700/1000  | loss: 0.042, acc: 0.984, lr: 2.0E-03, t: 96 sec\n",
      "Step 800/1000  | loss: 0.041, acc: 0.985, lr: 2.0E-03, t: 96 sec\n",
      "Step 900/1000  | loss: 0.041, acc: 0.985, lr: 2.0E-03, t: 96 sec\n",
      "Step 1000/1000 | loss: 0.041, acc: 0.985, val_loss: 0.438,  val lsd: 15.7 ,lr: 1.9E-03, t: 103 sec\n",
      "Epoch 11 Loss 0.042, time: 975 sec\n",
      "\n",
      "***** EPOCH 13 *****\n",
      "Step 100/1000  | loss: 0.042, acc: 0.984, lr: 1.9E-03, t: 98 sec\n",
      "Step 200/1000  | loss: 0.039, acc: 0.985, lr: 1.9E-03, t: 96 sec\n",
      "Step 300/1000  | loss: 0.040, acc: 0.985, lr: 1.9E-03, t: 96 sec\n",
      "Step 400/1000  | loss: 0.039, acc: 0.985, lr: 1.9E-03, t: 96 sec\n",
      "Step 500/1000  | loss: 0.039, acc: 0.985, lr: 1.9E-03, t: 96 sec\n",
      "Step 600/1000  | loss: 0.038, acc: 0.986, lr: 1.9E-03, t: 96 sec\n",
      "Step 700/1000  | loss: 0.038, acc: 0.986, lr: 1.9E-03, t: 96 sec\n",
      "Step 800/1000  | loss: 0.038, acc: 0.986, lr: 1.9E-03, t: 96 sec\n",
      "Step 900/1000  | loss: 0.037, acc: 0.986, lr: 1.9E-03, t: 96 sec\n",
      "Step 1000/1000 | loss: 0.038, acc: 0.986, val_loss: 0.453,  val lsd: 15.6 ,lr: 1.7E-03, t: 102 sec\n",
      "Epoch 12 Loss 0.039, time: 974 sec\n",
      "\n",
      "***** EPOCH 14 *****\n",
      "Step 100/1000  | loss: 0.037, acc: 0.986, lr: 1.7E-03, t: 98 sec\n",
      "Step 200/1000  | loss: 0.036, acc: 0.987, lr: 1.7E-03, t: 96 sec\n",
      "Step 300/1000  | loss: 0.040, acc: 0.985, lr: 1.7E-03, t: 96 sec\n",
      "Step 400/1000  | loss: 0.036, acc: 0.987, lr: 1.7E-03, t: 96 sec\n",
      "Step 500/1000  | loss: 0.035, acc: 0.987, lr: 1.7E-03, t: 96 sec\n",
      "Step 600/1000  | loss: 0.035, acc: 0.987, lr: 1.7E-03, t: 96 sec\n",
      "Step 700/1000  | loss: 0.034, acc: 0.987, lr: 1.7E-03, t: 96 sec\n",
      "Step 800/1000  | loss: 0.034, acc: 0.987, lr: 1.7E-03, t: 96 sec\n",
      "Step 900/1000  | loss: 0.034, acc: 0.987, lr: 1.6E-03, t: 96 sec\n",
      "Step 1000/1000 | loss: 0.034, acc: 0.987, val_loss: 0.432,  val lsd: 14.9 ,lr: 1.6E-03, t: 102 sec\n",
      "Epoch 13 Loss 0.036, time: 974 sec\n",
      "\n",
      "***** EPOCH 15 *****\n",
      "Step 100/1000  | loss: 0.034, acc: 0.987, lr: 1.6E-03, t: 98 sec\n",
      "Step 200/1000  | loss: 0.033, acc: 0.988, lr: 1.6E-03, t: 96 sec\n",
      "Step 300/1000  | loss: 0.033, acc: 0.988, lr: 1.6E-03, t: 96 sec\n",
      "Step 400/1000  | loss: 0.033, acc: 0.988, lr: 1.6E-03, t: 96 sec\n",
      "Step 500/1000  | loss: 0.033, acc: 0.988, lr: 1.6E-03, t: 96 sec\n",
      "Step 600/1000  | loss: 0.032, acc: 0.988, lr: 1.6E-03, t: 96 sec\n",
      "Step 700/1000  | loss: 0.033, acc: 0.988, lr: 1.6E-03, t: 96 sec\n",
      "Step 800/1000  | loss: 0.032, acc: 0.988, lr: 1.6E-03, t: 96 sec\n",
      "Step 900/1000  | loss: 0.032, acc: 0.988, lr: 1.5E-03, t: 96 sec\n",
      "Step 1000/1000 | loss: 0.031, acc: 0.988, val_loss: 0.425,  val lsd: 14.5 ,lr: 1.5E-03, t: 102 sec\n",
      "Epoch 14 Loss 0.033, time: 974 sec\n",
      "\n",
      "***** EPOCH 16 *****\n",
      "Step 100/1000  | loss: 0.032, acc: 0.988, lr: 1.5E-03, t: 98 sec\n",
      "Step 200/1000  | loss: 0.031, acc: 0.988, lr: 1.5E-03, t: 96 sec\n",
      "Step 300/1000  | loss: 0.031, acc: 0.988, lr: 1.5E-03, t: 96 sec\n",
      "Step 400/1000  | loss: 0.031, acc: 0.988, lr: 1.5E-03, t: 96 sec\n",
      "Step 500/1000  | loss: 0.031, acc: 0.989, lr: 1.5E-03, t: 96 sec\n",
      "Step 600/1000  | loss: 0.030, acc: 0.989, lr: 1.5E-03, t: 96 sec\n",
      "Step 700/1000  | loss: 0.031, acc: 0.988, lr: 1.5E-03, t: 96 sec\n",
      "Step 800/1000  | loss: 0.032, acc: 0.988, lr: 1.3E-03, t: 96 sec\n",
      "Step 900/1000  | loss: 0.029, acc: 0.989, lr: 1.3E-03, t: 96 sec\n",
      "Step 1000/1000 | loss: 0.030, acc: 0.989, val_loss: 0.402,  val lsd: 13.2 ,lr: 1.3E-03, t: 103 sec\n",
      "Epoch 15 Loss 0.031, time: 975 sec\n",
      "\n",
      "***** EPOCH 17 *****\n",
      "Step 100/1000  | loss: 0.029, acc: 0.989, lr: 1.3E-03, t: 97 sec\n",
      "Step 200/1000  | loss: 0.028, acc: 0.989, lr: 1.3E-03, t: 96 sec\n",
      "Step 300/1000  | loss: 0.029, acc: 0.989, lr: 1.3E-03, t: 96 sec\n",
      "Step 400/1000  | loss: 0.028, acc: 0.989, lr: 1.3E-03, t: 96 sec\n",
      "Step 500/1000  | loss: 0.028, acc: 0.989, lr: 1.3E-03, t: 96 sec\n",
      "Step 600/1000  | loss: 0.027, acc: 0.990, lr: 1.3E-03, t: 96 sec\n",
      "Step 700/1000  | loss: 0.031, acc: 0.989, lr: 1.3E-03, t: 96 sec\n",
      "Step 800/1000  | loss: 0.027, acc: 0.990, lr: 1.2E-03, t: 96 sec\n",
      "Step 900/1000  | loss: 0.027, acc: 0.990, lr: 1.2E-03, t: 96 sec\n",
      "Step 1000/1000 | loss: 0.028, acc: 0.990, val_loss: 0.393,  val lsd: 12.8 ,lr: 1.2E-03, t: 102 sec\n",
      "Epoch 16 Loss 0.028, time: 974 sec\n",
      "\n",
      "***** EPOCH 18 *****\n",
      "Step 100/1000  | loss: 0.027, acc: 0.990, lr: 1.2E-03, t: 97 sec\n",
      "Step 200/1000  | loss: 0.027, acc: 0.990, lr: 1.2E-03, t: 96 sec\n",
      "Step 300/1000  | loss: 0.026, acc: 0.990, lr: 1.2E-03, t: 96 sec\n",
      "Step 400/1000  | loss: 0.026, acc: 0.990, lr: 1.2E-03, t: 96 sec\n",
      "Step 500/1000  | loss: 0.026, acc: 0.990, lr: 1.2E-03, t: 96 sec\n",
      "Step 600/1000  | loss: 0.025, acc: 0.990, lr: 1.2E-03, t: 96 sec\n",
      "Step 700/1000  | loss: 0.026, acc: 0.990, lr: 1.1E-03, t: 96 sec\n",
      "Step 800/1000  | loss: 0.025, acc: 0.991, lr: 1.1E-03, t: 96 sec\n",
      "Step 900/1000  | loss: 0.025, acc: 0.990, lr: 1.1E-03, t: 96 sec\n",
      "Step 1000/1000 | loss: 0.026, acc: 0.990, val_loss: 0.421,  val lsd: 13.5 ,lr: 1.1E-03, t: 102 sec\n",
      "Epoch 17 Loss 0.026, time: 974 sec\n",
      "\n",
      "***** EPOCH 19 *****\n",
      "Step 100/1000  | loss: 0.025, acc: 0.990, lr: 1.1E-03, t: 98 sec\n",
      "Step 200/1000  | loss: 0.024, acc: 0.991, lr: 1.1E-03, t: 96 sec\n",
      "Step 300/1000  | loss: 0.025, acc: 0.991, lr: 1.1E-03, t: 96 sec\n",
      "Step 400/1000  | loss: 0.026, acc: 0.990, lr: 1.1E-03, t: 96 sec\n",
      "Step 500/1000  | loss: 0.025, acc: 0.991, lr: 1.1E-03, t: 96 sec\n",
      "Step 600/1000  | loss: 0.024, acc: 0.991, lr: 1.1E-03, t: 96 sec\n",
      "Step 700/1000  | loss: 0.024, acc: 0.991, lr: 1.0E-03, t: 96 sec\n",
      "Step 800/1000  | loss: 0.024, acc: 0.991, lr: 1.0E-03, t: 96 sec\n",
      "Step 900/1000  | loss: 0.024, acc: 0.991, lr: 1.0E-03, t: 96 sec\n",
      "Step 1000/1000 | loss: 0.025, acc: 0.991, val_loss: 0.392,  val lsd: 12.5 ,lr: 1.0E-03, t: 102 sec\n",
      "Epoch 18 Loss 0.025, time: 974 sec\n",
      "\n",
      "***** EPOCH 20 *****\n",
      "Step 100/1000  | loss: 0.024, acc: 0.991, lr: 1.0E-03, t: 97 sec\n",
      "Step 200/1000  | loss: 0.023, acc: 0.991, lr: 1.0E-03, t: 96 sec\n",
      "Step 300/1000  | loss: 0.023, acc: 0.991, lr: 1.0E-03, t: 96 sec\n",
      "Step 400/1000  | loss: 0.023, acc: 0.991, lr: 1.0E-03, t: 96 sec\n",
      "Step 500/1000  | loss: 0.023, acc: 0.991, lr: 1.0E-03, t: 96 sec\n",
      "Step 600/1000  | loss: 0.022, acc: 0.992, lr: 9.7E-04, t: 96 sec\n",
      "Step 700/1000  | loss: 0.022, acc: 0.992, lr: 9.7E-04, t: 96 sec\n",
      "Step 800/1000  | loss: 0.022, acc: 0.992, lr: 9.7E-04, t: 96 sec\n",
      "Step 900/1000  | loss: 0.022, acc: 0.992, lr: 9.7E-04, t: 96 sec\n",
      "Step 1000/1000 | loss: 0.023, acc: 0.991, val_loss: 0.377,  val lsd: 11.8 ,lr: 9.7E-04, t: 103 sec\n",
      "Epoch 19 Loss 0.023, time: 975 sec\n",
      "\n",
      "***** EPOCH 21 *****\n",
      "Step 100/1000  | loss: 0.022, acc: 0.992, lr: 9.7E-04, t: 98 sec\n",
      "Step 200/1000  | loss: 0.022, acc: 0.992, lr: 9.7E-04, t: 96 sec\n",
      "Step 300/1000  | loss: 0.021, acc: 0.992, lr: 9.7E-04, t: 96 sec\n",
      "Step 400/1000  | loss: 0.021, acc: 0.992, lr: 9.7E-04, t: 96 sec\n",
      "Step 500/1000  | loss: 0.021, acc: 0.992, lr: 9.7E-04, t: 96 sec\n",
      "Step 600/1000  | loss: 0.021, acc: 0.992, lr: 8.9E-04, t: 96 sec\n",
      "Step 700/1000  | loss: 0.021, acc: 0.992, lr: 8.9E-04, t: 96 sec\n",
      "Step 800/1000  | loss: 0.021, acc: 0.992, lr: 8.9E-04, t: 96 sec\n",
      "Step 900/1000  | loss: 0.020, acc: 0.992, lr: 8.9E-04, t: 96 sec\n",
      "Step 1000/1000 | loss: 0.023, acc: 0.992, val_loss: 0.396,  val lsd: 11.9 ,lr: 8.9E-04, t: 101 sec\n",
      "Epoch 20 Loss 0.021, time: 974 sec\n",
      "\n",
      "***** EPOCH 22 *****\n",
      "Step 100/1000  | loss: 0.021, acc: 0.992, lr: 8.9E-04, t: 97 sec\n",
      "Step 200/1000  | loss: 0.021, acc: 0.992, lr: 8.9E-04, t: 96 sec\n",
      "Step 300/1000  | loss: 0.020, acc: 0.992, lr: 8.9E-04, t: 96 sec\n",
      "Step 400/1000  | loss: 0.020, acc: 0.993, lr: 8.9E-04, t: 96 sec\n",
      "Step 500/1000  | loss: 0.019, acc: 0.993, lr: 8.2E-04, t: 96 sec\n",
      "Step 600/1000  | loss: 0.019, acc: 0.993, lr: 8.2E-04, t: 96 sec\n",
      "Step 700/1000  | loss: 0.020, acc: 0.993, lr: 8.2E-04, t: 96 sec\n",
      "Step 800/1000  | loss: 0.019, acc: 0.993, lr: 8.2E-04, t: 96 sec\n",
      "Step 900/1000  | loss: 0.019, acc: 0.993, lr: 8.2E-04, t: 96 sec\n",
      "Step 1000/1000 | loss: 0.020, acc: 0.992, val_loss: 0.375,  val lsd: 11.2 ,lr: 8.2E-04, t: 102 sec\n",
      "Epoch 21 Loss 0.02, time: 974 sec\n",
      "\n",
      "***** EPOCH 23 *****\n",
      "Step 100/1000  | loss: 0.020, acc: 0.992, lr: 8.2E-04, t: 97 sec\n",
      "Step 200/1000  | loss: 0.019, acc: 0.993, lr: 8.2E-04, t: 96 sec\n",
      "Step 300/1000  | loss: 0.019, acc: 0.993, lr: 8.2E-04, t: 96 sec\n",
      "Step 400/1000  | loss: 0.019, acc: 0.993, lr: 8.2E-04, t: 96 sec\n",
      "Step 500/1000  | loss: 0.019, acc: 0.993, lr: 7.5E-04, t: 96 sec\n",
      "Step 600/1000  | loss: 0.019, acc: 0.993, lr: 7.5E-04, t: 96 sec\n",
      "Step 700/1000  | loss: 0.019, acc: 0.993, lr: 7.5E-04, t: 96 sec\n",
      "Step 800/1000  | loss: 0.018, acc: 0.993, lr: 7.5E-04, t: 96 sec\n",
      "Step 900/1000  | loss: 0.018, acc: 0.993, lr: 7.5E-04, t: 96 sec\n",
      "Step 1000/1000 | loss: 0.019, acc: 0.993, val_loss: 0.373,  val lsd: 10.9 ,lr: 7.5E-04, t: 102 sec\n",
      "Epoch 22 Loss 0.019, time: 974 sec\n",
      "\n",
      "***** EPOCH 24 *****\n",
      "Step 100/1000  | loss: 0.019, acc: 0.993, lr: 7.5E-04, t: 97 sec\n",
      "Step 200/1000  | loss: 0.018, acc: 0.993, lr: 7.5E-04, t: 96 sec\n",
      "Step 300/1000  | loss: 0.018, acc: 0.993, lr: 7.5E-04, t: 96 sec\n",
      "Step 400/1000  | loss: 0.018, acc: 0.993, lr: 6.9E-04, t: 96 sec\n",
      "Step 500/1000  | loss: 0.018, acc: 0.993, lr: 6.9E-04, t: 96 sec\n",
      "Step 600/1000  | loss: 0.017, acc: 0.994, lr: 6.9E-04, t: 96 sec\n",
      "Step 700/1000  | loss: 0.017, acc: 0.993, lr: 6.9E-04, t: 96 sec\n",
      "Step 800/1000  | loss: 0.017, acc: 0.993, lr: 6.9E-04, t: 96 sec\n",
      "Step 900/1000  | loss: 0.017, acc: 0.993, lr: 6.9E-04, t: 96 sec\n",
      "Step 1000/1000 | loss: 0.018, acc: 0.993, val_loss: 0.407,  val lsd: 12.1 ,lr: 6.9E-04, t: 103 sec\n",
      "Epoch 23 Loss 0.018, time: 975 sec\n",
      "\n",
      "***** EPOCH 25 *****\n",
      "Step 100/1000  | loss: 0.018, acc: 0.993, lr: 6.9E-04, t: 98 sec\n",
      "Step 200/1000  | loss: 0.017, acc: 0.994, lr: 6.9E-04, t: 96 sec\n",
      "Step 300/1000  | loss: 0.017, acc: 0.994, lr: 6.9E-04, t: 96 sec\n",
      "Step 400/1000  | loss: 0.017, acc: 0.994, lr: 6.4E-04, t: 96 sec\n",
      "Step 500/1000  | loss: 0.016, acc: 0.994, lr: 6.4E-04, t: 96 sec\n",
      "Step 600/1000  | loss: 0.016, acc: 0.994, lr: 6.4E-04, t: 96 sec\n",
      "Step 700/1000  | loss: 0.017, acc: 0.994, lr: 6.4E-04, t: 96 sec\n",
      "Step 800/1000  | loss: 0.016, acc: 0.994, lr: 6.4E-04, t: 96 sec\n",
      "Step 900/1000  | loss: 0.016, acc: 0.994, lr: 6.4E-04, t: 96 sec\n",
      "Step 1000/1000 | loss: 0.017, acc: 0.994, val_loss: 0.382,  val lsd: 11.0 ,lr: 6.4E-04, t: 102 sec\n",
      "Epoch 24 Loss 0.017, time: 974 sec\n",
      "\n",
      "***** EPOCH 26 *****\n",
      "Step 100/1000  | loss: 0.017, acc: 0.994, lr: 6.4E-04, t: 98 sec\n",
      "Step 200/1000  | loss: 0.016, acc: 0.994, lr: 6.4E-04, t: 96 sec\n",
      "Step 300/1000  | loss: 0.016, acc: 0.994, lr: 5.9E-04, t: 96 sec\n",
      "Step 400/1000  | loss: 0.016, acc: 0.994, lr: 5.9E-04, t: 96 sec\n",
      "Step 500/1000  | loss: 0.016, acc: 0.994, lr: 5.9E-04, t: 96 sec\n",
      "Step 600/1000  | loss: 0.015, acc: 0.994, lr: 5.9E-04, t: 96 sec\n",
      "Step 700/1000  | loss: 0.016, acc: 0.994, lr: 5.9E-04, t: 96 sec\n",
      "Step 800/1000  | loss: 0.015, acc: 0.994, lr: 5.9E-04, t: 96 sec\n",
      "Step 900/1000  | loss: 0.015, acc: 0.994, lr: 5.9E-04, t: 96 sec\n",
      "Step 1000/1000 | loss: 0.016, acc: 0.994, val_loss: 0.372,  val lsd: 10.5 ,lr: 5.9E-04, t: 102 sec\n",
      "Epoch 25 Loss 0.016, time: 974 sec\n",
      "\n",
      "***** EPOCH 27 *****\n",
      "Step 100/1000  | loss: 0.016, acc: 0.994, lr: 5.9E-04, t: 98 sec\n",
      "Step 200/1000  | loss: 0.015, acc: 0.994, lr: 5.9E-04, t: 96 sec\n",
      "Step 300/1000  | loss: 0.015, acc: 0.994, lr: 5.4E-04, t: 96 sec\n",
      "Step 400/1000  | loss: 0.015, acc: 0.994, lr: 5.4E-04, t: 96 sec\n",
      "Step 500/1000  | loss: 0.015, acc: 0.994, lr: 5.4E-04, t: 96 sec\n",
      "Step 600/1000  | loss: 0.015, acc: 0.994, lr: 5.4E-04, t: 96 sec\n",
      "Step 700/1000  | loss: 0.015, acc: 0.994, lr: 5.4E-04, t: 96 sec\n",
      "Step 800/1000  | loss: 0.015, acc: 0.994, lr: 5.4E-04, t: 96 sec\n",
      "Step 900/1000  | loss: 0.014, acc: 0.994, lr: 5.4E-04, t: 96 sec\n",
      "Step 1000/1000 | loss: 0.016, acc: 0.994, val_loss: 0.379,  val lsd: 10.3 ,lr: 5.4E-04, t: 101 sec\n",
      "Epoch 26 Loss 0.015, time: 974 sec\n",
      "\n",
      "***** EPOCH 28 *****\n",
      "Step 100/1000  | loss: 0.015, acc: 0.994, lr: 5.4E-04, t: 97 sec\n",
      "Step 200/1000  | loss: 0.014, acc: 0.995, lr: 5.0E-04, t: 96 sec\n",
      "Step 300/1000  | loss: 0.014, acc: 0.995, lr: 5.0E-04, t: 96 sec\n",
      "Step 400/1000  | loss: 0.014, acc: 0.995, lr: 5.0E-04, t: 96 sec\n",
      "Step 500/1000  | loss: 0.014, acc: 0.995, lr: 5.0E-04, t: 96 sec\n",
      "Step 600/1000  | loss: 0.014, acc: 0.995, lr: 5.0E-04, t: 96 sec\n",
      "Step 700/1000  | loss: 0.014, acc: 0.995, lr: 5.0E-04, t: 96 sec\n",
      "Step 800/1000  | loss: 0.014, acc: 0.995, lr: 5.0E-04, t: 96 sec\n",
      "Step 900/1000  | loss: 0.014, acc: 0.995, lr: 5.0E-04, t: 96 sec\n",
      "Step 1000/1000 | loss: 0.014, acc: 0.995, val_loss: 0.372,  val lsd: 10.1 ,lr: 5.0E-04, t: 102 sec\n",
      "Epoch 27 Loss 0.014, time: 975 sec\n",
      "\n"
     ]
    }
   ],
   "source": [
    "step_total = 0\n",
    "for epoch in range(EPOCHS):\n",
    "    print(f'***** EPOCH {epoch + 1} *****')\n",
    "    \n",
    "    t_start = time.time()\n",
    "    t_start_batch = time.time()\n",
    "    total_loss = 0\n",
    "    \n",
    "    # create distributed versions of dataset\n",
    "    train_dist_dataset = iter(strategy.experimental_distribute_dataset(train_dataset))\n",
    "    val_dist_dataset = iter(strategy.experimental_distribute_dataset(val_dataset))\n",
    "\n",
    "    for step in range(1, STEPS_PER_EPOCH + 1):\n",
    "        # train step\n",
    "        distributed_train_step(train_dist_dataset)\n",
    "        STATS.update_stats()\n",
    "        \n",
    "        # end of epoch validation\n",
    "        if step == STEPS_PER_EPOCH:\n",
    "            val_ls_distance = get_val_metrics(val_dist_dataset)\n",
    "            # log with validation\n",
    "            log(step, t_start_batch, val_ls_distance)\n",
    "        else:\n",
    "            # normal log\n",
    "            log(step, t_start_batch)\n",
    "            # reset start time batch\n",
    "            t_start_batch = time.time()\n",
    "            \n",
    "        total_loss += train_loss.result()\n",
    "        \n",
    "        # learning rate step\n",
    "        LRREDUCE.step(epoch * TRAIN_STEPS + step * VERBOSE_FREQ - 1)\n",
    "        \n",
    "        # stop training when NaN loss is detected, this can be caused by exploding gradients\n",
    "        if np.isnan(total_loss):\n",
    "            break\n",
    "            \n",
    "    # stop training when NaN loss is detected\n",
    "    if np.isnan(total_loss):\n",
    "        break\n",
    "\n",
    "    print(f'Epoch {epoch} Loss {round(total_loss.numpy() / TRAIN_STEPS, 3)}, time: {int(time.time() - t_start)} sec\\n')"
   ]
  },
  {
   "cell_type": "code",
   "execution_count": 43,
   "id": "extensive-consumer",
   "metadata": {
    "execution": {
     "iopub.execute_input": "2021-04-17T20:50:49.132362Z",
     "iopub.status.busy": "2021-04-17T20:50:49.131347Z",
     "iopub.status.idle": "2021-04-17T20:50:49.640749Z",
     "shell.execute_reply": "2021-04-17T20:50:49.640074Z"
    },
    "papermill": {
     "duration": 0.68661,
     "end_time": "2021-04-17T20:50:49.641070",
     "exception": false,
     "start_time": "2021-04-17T20:50:48.954460",
     "status": "completed"
    },
    "tags": []
   },
   "outputs": [
    {
     "ename": "OSError",
     "evalue": "Unable to create file (unable to open file: name = '/content/drive/MyDrive/Kaggle/encoder.h5', errno = 2, error message = 'No such file or directory', flags = 13, o_flags = 242)",
     "output_type": "error",
     "traceback": [
      "\u001b[0;31m---------------------------------------------------------------------------\u001b[0m",
      "\u001b[0;31mOSError\u001b[0m                                   Traceback (most recent call last)",
      "\u001b[0;32m<ipython-input-43-c262ba4d17cf>\u001b[0m in \u001b[0;36m<module>\u001b[0;34m\u001b[0m\n\u001b[1;32m      1\u001b[0m \u001b[0;31m# save weights\u001b[0m\u001b[0;34m\u001b[0m\u001b[0;34m\u001b[0m\u001b[0;34m\u001b[0m\u001b[0m\n\u001b[0;32m----> 2\u001b[0;31m \u001b[0mencoder\u001b[0m\u001b[0;34m.\u001b[0m\u001b[0msave_weights\u001b[0m\u001b[0;34m(\u001b[0m\u001b[0;34m'/content/drive/MyDrive/Kaggle/encoder.h5'\u001b[0m\u001b[0;34m)\u001b[0m\u001b[0;34m\u001b[0m\u001b[0;34m\u001b[0m\u001b[0m\n\u001b[0m\u001b[1;32m      3\u001b[0m \u001b[0mdecoder\u001b[0m\u001b[0;34m.\u001b[0m\u001b[0msave_weights\u001b[0m\u001b[0;34m(\u001b[0m\u001b[0;34m'/content/drive/MyDrive/Kaggle/decoder.h5'\u001b[0m\u001b[0;34m)\u001b[0m\u001b[0;34m\u001b[0m\u001b[0;34m\u001b[0m\u001b[0m\n",
      "\u001b[0;32m/opt/conda/lib/python3.7/site-packages/tensorflow/python/keras/engine/training.py\u001b[0m in \u001b[0;36msave_weights\u001b[0;34m(self, filepath, overwrite, save_format, options)\u001b[0m\n\u001b[1;32m   2105\u001b[0m         \u001b[0;32mreturn\u001b[0m\u001b[0;34m\u001b[0m\u001b[0;34m\u001b[0m\u001b[0m\n\u001b[1;32m   2106\u001b[0m     \u001b[0;32mif\u001b[0m \u001b[0msave_format\u001b[0m \u001b[0;34m==\u001b[0m \u001b[0;34m'h5'\u001b[0m\u001b[0;34m:\u001b[0m\u001b[0;34m\u001b[0m\u001b[0;34m\u001b[0m\u001b[0m\n\u001b[0;32m-> 2107\u001b[0;31m       \u001b[0;32mwith\u001b[0m \u001b[0mh5py\u001b[0m\u001b[0;34m.\u001b[0m\u001b[0mFile\u001b[0m\u001b[0;34m(\u001b[0m\u001b[0mfilepath\u001b[0m\u001b[0;34m,\u001b[0m \u001b[0;34m'w'\u001b[0m\u001b[0;34m)\u001b[0m \u001b[0;32mas\u001b[0m \u001b[0mf\u001b[0m\u001b[0;34m:\u001b[0m\u001b[0;34m\u001b[0m\u001b[0;34m\u001b[0m\u001b[0m\n\u001b[0m\u001b[1;32m   2108\u001b[0m         \u001b[0mhdf5_format\u001b[0m\u001b[0;34m.\u001b[0m\u001b[0msave_weights_to_hdf5_group\u001b[0m\u001b[0;34m(\u001b[0m\u001b[0mf\u001b[0m\u001b[0;34m,\u001b[0m \u001b[0mself\u001b[0m\u001b[0;34m.\u001b[0m\u001b[0mlayers\u001b[0m\u001b[0;34m)\u001b[0m\u001b[0;34m\u001b[0m\u001b[0;34m\u001b[0m\u001b[0m\n\u001b[1;32m   2109\u001b[0m     \u001b[0;32melse\u001b[0m\u001b[0;34m:\u001b[0m\u001b[0;34m\u001b[0m\u001b[0;34m\u001b[0m\u001b[0m\n",
      "\u001b[0;32m/opt/conda/lib/python3.7/site-packages/h5py/_hl/files.py\u001b[0m in \u001b[0;36m__init__\u001b[0;34m(self, name, mode, driver, libver, userblock_size, swmr, rdcc_nslots, rdcc_nbytes, rdcc_w0, track_order, **kwds)\u001b[0m\n\u001b[1;32m    406\u001b[0m                 fid = make_fid(name, mode, userblock_size,\n\u001b[1;32m    407\u001b[0m                                \u001b[0mfapl\u001b[0m\u001b[0;34m,\u001b[0m \u001b[0mfcpl\u001b[0m\u001b[0;34m=\u001b[0m\u001b[0mmake_fcpl\u001b[0m\u001b[0;34m(\u001b[0m\u001b[0mtrack_order\u001b[0m\u001b[0;34m=\u001b[0m\u001b[0mtrack_order\u001b[0m\u001b[0;34m)\u001b[0m\u001b[0;34m,\u001b[0m\u001b[0;34m\u001b[0m\u001b[0;34m\u001b[0m\u001b[0m\n\u001b[0;32m--> 408\u001b[0;31m                                swmr=swmr)\n\u001b[0m\u001b[1;32m    409\u001b[0m \u001b[0;34m\u001b[0m\u001b[0m\n\u001b[1;32m    410\u001b[0m             \u001b[0;32mif\u001b[0m \u001b[0misinstance\u001b[0m\u001b[0;34m(\u001b[0m\u001b[0mlibver\u001b[0m\u001b[0;34m,\u001b[0m \u001b[0mtuple\u001b[0m\u001b[0;34m)\u001b[0m\u001b[0;34m:\u001b[0m\u001b[0;34m\u001b[0m\u001b[0;34m\u001b[0m\u001b[0m\n",
      "\u001b[0;32m/opt/conda/lib/python3.7/site-packages/h5py/_hl/files.py\u001b[0m in \u001b[0;36mmake_fid\u001b[0;34m(name, mode, userblock_size, fapl, fcpl, swmr)\u001b[0m\n\u001b[1;32m    177\u001b[0m         \u001b[0mfid\u001b[0m \u001b[0;34m=\u001b[0m \u001b[0mh5f\u001b[0m\u001b[0;34m.\u001b[0m\u001b[0mcreate\u001b[0m\u001b[0;34m(\u001b[0m\u001b[0mname\u001b[0m\u001b[0;34m,\u001b[0m \u001b[0mh5f\u001b[0m\u001b[0;34m.\u001b[0m\u001b[0mACC_EXCL\u001b[0m\u001b[0;34m,\u001b[0m \u001b[0mfapl\u001b[0m\u001b[0;34m=\u001b[0m\u001b[0mfapl\u001b[0m\u001b[0;34m,\u001b[0m \u001b[0mfcpl\u001b[0m\u001b[0;34m=\u001b[0m\u001b[0mfcpl\u001b[0m\u001b[0;34m)\u001b[0m\u001b[0;34m\u001b[0m\u001b[0;34m\u001b[0m\u001b[0m\n\u001b[1;32m    178\u001b[0m     \u001b[0;32melif\u001b[0m \u001b[0mmode\u001b[0m \u001b[0;34m==\u001b[0m \u001b[0;34m'w'\u001b[0m\u001b[0;34m:\u001b[0m\u001b[0;34m\u001b[0m\u001b[0;34m\u001b[0m\u001b[0m\n\u001b[0;32m--> 179\u001b[0;31m         \u001b[0mfid\u001b[0m \u001b[0;34m=\u001b[0m \u001b[0mh5f\u001b[0m\u001b[0;34m.\u001b[0m\u001b[0mcreate\u001b[0m\u001b[0;34m(\u001b[0m\u001b[0mname\u001b[0m\u001b[0;34m,\u001b[0m \u001b[0mh5f\u001b[0m\u001b[0;34m.\u001b[0m\u001b[0mACC_TRUNC\u001b[0m\u001b[0;34m,\u001b[0m \u001b[0mfapl\u001b[0m\u001b[0;34m=\u001b[0m\u001b[0mfapl\u001b[0m\u001b[0;34m,\u001b[0m \u001b[0mfcpl\u001b[0m\u001b[0;34m=\u001b[0m\u001b[0mfcpl\u001b[0m\u001b[0;34m)\u001b[0m\u001b[0;34m\u001b[0m\u001b[0;34m\u001b[0m\u001b[0m\n\u001b[0m\u001b[1;32m    180\u001b[0m     \u001b[0;32melif\u001b[0m \u001b[0mmode\u001b[0m \u001b[0;34m==\u001b[0m \u001b[0;34m'a'\u001b[0m\u001b[0;34m:\u001b[0m\u001b[0;34m\u001b[0m\u001b[0;34m\u001b[0m\u001b[0m\n\u001b[1;32m    181\u001b[0m         \u001b[0;31m# Open in append mode (read/write).\u001b[0m\u001b[0;34m\u001b[0m\u001b[0;34m\u001b[0m\u001b[0;34m\u001b[0m\u001b[0m\n",
      "\u001b[0;32mh5py/_objects.pyx\u001b[0m in \u001b[0;36mh5py._objects.with_phil.wrapper\u001b[0;34m()\u001b[0m\n",
      "\u001b[0;32mh5py/_objects.pyx\u001b[0m in \u001b[0;36mh5py._objects.with_phil.wrapper\u001b[0;34m()\u001b[0m\n",
      "\u001b[0;32mh5py/h5f.pyx\u001b[0m in \u001b[0;36mh5py.h5f.create\u001b[0;34m()\u001b[0m\n",
      "\u001b[0;31mOSError\u001b[0m: Unable to create file (unable to open file: name = '/content/drive/MyDrive/Kaggle/encoder.h5', errno = 2, error message = 'No such file or directory', flags = 13, o_flags = 242)"
     ]
    }
   ],
   "source": [
    "# save weights\n",
    "encoder.save_weights('/content/drive/MyDrive/Kaggle/encoder.h5')\n",
    "decoder.save_weights('/content/drive/MyDrive/Kaggle/decoder.h5')"
   ]
  },
  {
   "cell_type": "code",
   "execution_count": 44,
   "id": "located-speech",
   "metadata": {
    "execution": {
     "iopub.execute_input": "2021-04-17T20:50:49.945870Z",
     "iopub.status.busy": "2021-04-17T20:50:49.926135Z",
     "iopub.status.idle": "2021-04-17T20:50:50.995017Z",
     "shell.execute_reply": "2021-04-17T20:50:50.994433Z"
    },
    "papermill": {
     "duration": 1.214898,
     "end_time": "2021-04-17T20:50:50.995174",
     "exception": false,
     "start_time": "2021-04-17T20:50:49.780276",
     "status": "completed"
    },
    "tags": []
   },
   "outputs": [
    {
     "data": {
      "image/png": "[encoded data removed]",
      "text/plain": [
       "<Figure size 1080x576 with 1 Axes>"
      ]
     },
     "metadata": {
      "needs_background": "light"
     },
     "output_type": "display_data"
    }
   ],
   "source": [
    "STATS.plot_stat('train_loss')"
   ]
  },
  {
   "cell_type": "code",
   "execution_count": 45,
   "id": "opened-dispute",
   "metadata": {
    "execution": {
     "iopub.execute_input": "2021-04-17T20:50:51.336358Z",
     "iopub.status.busy": "2021-04-17T20:50:51.335633Z",
     "iopub.status.idle": "2021-04-17T20:50:52.328770Z",
     "shell.execute_reply": "2021-04-17T20:50:52.328113Z"
    },
    "papermill": {
     "duration": 1.186693,
     "end_time": "2021-04-17T20:50:52.328923",
     "exception": false,
     "start_time": "2021-04-17T20:50:51.142230",
     "status": "completed"
    },
    "tags": []
   },
   "outputs": [
    {
     "data": {
      "image/png": "[encoded data removed]",
      "text/plain": [
       "<Figure size 1080x576 with 1 Axes>"
      ]
     },
     "metadata": {
      "needs_background": "light"
     },
     "output_type": "display_data"
    }
   ],
   "source": [
    "STATS.plot_stat('train_acc')"
   ]
  },
  {
   "cell_type": "code",
   "execution_count": 46,
   "id": "apparent-discretion",
   "metadata": {
    "execution": {
     "iopub.execute_input": "2021-04-17T20:50:52.625107Z",
     "iopub.status.busy": "2021-04-17T20:50:52.624343Z",
     "iopub.status.idle": "2021-04-17T20:50:52.630737Z",
     "shell.execute_reply": "2021-04-17T20:50:52.629987Z"
    },
    "papermill": {
     "duration": 0.154584,
     "end_time": "2021-04-17T20:50:52.630887",
     "exception": false,
     "start_time": "2021-04-17T20:50:52.476303",
     "status": "completed"
    },
    "tags": []
   },
   "outputs": [],
   "source": [
    "# convert the integer encoded predictions to a string\n",
    "def int2char(i_str):\n",
    "    res = ''\n",
    "    for i in i_str.numpy():\n",
    "        c = int_to_vocabulary.get(i)\n",
    "        if c not in ['<start>', '<end>', '<pad>']:\n",
    "            res += c\n",
    "    return res"
   ]
  },
  {
   "cell_type": "code",
   "execution_count": 47,
   "id": "integral-gazette",
   "metadata": {
    "execution": {
     "iopub.execute_input": "2021-04-17T20:50:52.938212Z",
     "iopub.status.busy": "2021-04-17T20:50:52.937513Z",
     "iopub.status.idle": "2021-04-17T20:51:47.482325Z",
     "shell.execute_reply": "2021-04-17T20:51:47.482840Z"
    },
    "papermill": {
     "duration": 54.704761,
     "end_time": "2021-04-17T20:51:47.483049",
     "exception": false,
     "start_time": "2021-04-17T20:50:52.778288",
     "status": "completed"
    },
    "tags": []
   },
   "outputs": [
    {
     "data": {
      "application/vnd.jupyter.widget-view+json": {
       "model_id": "a1bfa3e72e49402f9c324b362fc4f852",
       "version_major": 2,
       "version_minor": 0
      },
      "text/plain": [
       "  0%|          | 0/200 [00:00<?, ?it/s]"
      ]
     },
     "metadata": {},
     "output_type": "display_data"
    },
    {
     "data": {
      "image/png": "[encoded data removed]",
      "text/plain": [
       "<Figure size 504x288 with 1 Axes>"
      ]
     },
     "metadata": {
      "needs_background": "light"
     },
     "output_type": "display_data"
    },
    {
     "name": "stdout",
     "output_type": "stream",
     "text": [
      "predicted: \tD,,cOm/,9,nS,46Ol6OO6O76O4676O2BO7PO86,8B,7P,2BOlP,l6,O6l6OsB,tPO,6,sB,mbOtP,,6t6Om646O6,6s628B,OP,2BO4P,l6,,nrO6,bm6O,b,l628cb2c,\n",
      "actual: \tDO2c4/49,nSOm67626sB46OlPO6,6O8B7P,86O26OOBO7PtBO4Pm6lBOsPO,BO2POtnrO6mb,8c\n"
     ]
    },
    {
     "data": {
      "application/vnd.jupyter.widget-view+json": {
       "model_id": "2fd4f38da5d44e20848d9f7f209960af",
       "version_major": 2,
       "version_minor": 0
      },
      "text/plain": [
       "  0%|          | 0/200 [00:00<?, ?it/s]"
      ]
     },
     "metadata": {},
     "output_type": "display_data"
    },
    {
     "data": {
      "image/png": "[encoded data removed]",
      "text/plain": [
       "<Figure size 504x288 with 1 Axes>"
      ]
     },
     "metadata": {
      "needs_background": "light"
     },
     "output_type": "display_data"
    },
    {
     "name": "stdout",
     "output_type": "stream",
     "text": [
      "predicted: \tD2Oc289m(,1,nSO62t6,s6O,64626t6,8B,sP,lB27P2m62OB2tP2s6Ot6,,6,O6l6m6s6O462,B,Obm86,t6Om676O76m86,tP,76,46OO6,6O86,m6,2B2OPO26Os628B24P2lB,mP,snr2b4b7blbOO6O7b,,b28cb,bmbsbtbO8bOt6Olc,bOc2bBcb2mb27P\n",
      "actual: \tD,sc,492(,1,nSO62O6,O6OO6m626l6OlB,OP,76,sB28P,l6Os6Ot6O76t6,646O,6,,BO7P226,4BOtP,t6Om6s6O86,8B,tP,mB,lP,26O2676O462,6,2nr26mbs67bl6OObO26O4b,mcb,b4btbO,bOsc,bOc2bBcb,7b28P\n"
     ]
    },
    {
     "data": {
      "application/vnd.jupyter.widget-view+json": {
       "model_id": "d69966c98ad1479aadabc54b7a02dc2e",
       "version_major": 2,
       "version_minor": 0
      },
      "text/plain": [
       "  0%|          | 0/200 [00:00<?, ?it/s]"
      ]
     },
     "metadata": {},
     "output_type": "display_data"
    },
    {
     "data": {
      "image/png": "[encoded data removed]",
      "text/plain": [
       "<Figure size 504x288 with 1 Axes>"
      ]
     },
     "metadata": {
      "needs_background": "light"
     },
     "output_type": "display_data"
    },
    {
     "name": "stdout",
     "output_type": "stream",
     "text": [
      "predicted: \tD2mc28D592(71nSO676m462mBm,P,l6OtB,P2762462tB2OB,lP,s6Os6,8B2l62Pt6OO6,4B,sP2sP22Bm8P,t6O46,,6l6O,6,7Bms6,mP,O6O86O26,2B2,BmOPmm6sPOlBmP,tB,OP28B,,Pm76O7B4Pm8nrt6Osb2,cb7bO7c,bO6sc2n+,l6Os6n02,6b246nH\n",
      "actual: \tD2Oc,7D59,(71nSO6s6m8628B27P,s6O7B2P2262O62mB,7B,sP,,6Om6OlB2,Pt6OO6,2B,,P2t6mP,tB24P,4Bm,62OPO46,86l6O,6,mBmO6,8P,O6O8676OtBO26OsB,OP,P,lB2sP2l64nr76O4b,7cbsc,bO64c2n+,46O46n0,76nH8nhO\n"
     ]
    }
   ],
   "source": [
    "def evaluate(img, actual=None):\n",
    "    # get encoder output and initiate LSTM hidden and carry state\n",
    "    enc_out = encoder(tf.expand_dims(img, axis=0), training=False)\n",
    "    h, c = decoder.init_hidden_state(enc_out, training=False)\n",
    "    \n",
    "    # the \"<start>\" token is used as first character when predicting\n",
    "    dec_input = tf.expand_dims([vocabulary_to_int.get('<start>')], 0)\n",
    "    result = ''\n",
    "    \n",
    "    for t in tqdm(range(SEQ_LEN_OUT)):\n",
    "        predictions, h, c = decoder(dec_input, h, c, enc_out, training=False)\n",
    "        predicted_id = tf.argmax(predictions[0]).numpy()\n",
    "        predicted_char = int_to_vocabulary.get(predicted_id)\n",
    "\n",
    "        # stop predicting when \"<end>\" token is predicted\n",
    "        if predicted_char == '<end>':\n",
    "            break\n",
    "        \n",
    "        # add every character except \"<start>\"\n",
    "        if result != '<start>':\n",
    "            result += predicted_char\n",
    "\n",
    "        # predicted charachter is used as input to the decoder to predict the next character\n",
    "        dec_input = tf.expand_dims([predicted_id], 0)\n",
    "    \n",
    "    # plot the molecule image\n",
    "    plt.figure(figsize=(7, 4))\n",
    "    plt.imshow(img.numpy().astype(np.float32))\n",
    "    plt.show()\n",
    "    print(f'predicted: \\t{result}')\n",
    "    print(f'actual: \\t{int2char(actual)}')\n",
    "\n",
    "for n in range(3):\n",
    "    evaluate(val_imgs[n], actual=val_lbls[n])"
   ]
  }
 ],
 "metadata": {
  "kernelspec": {
   "display_name": "Python 3",
   "language": "python",
   "name": "python3"
  },
  "language_info": {
   "codemirror_mode": {
    "name": "ipython",
    "version": 3
   },
   "file_extension": ".py",
   "mimetype": "text/x-python",
   "name": "python",
   "nbconvert_exporter": "python",
   "pygments_lexer": "ipython3",
   "version": "3.7.9"
  },
  "papermill": {
   "default_parameters": {},
   "duration": 27891.245298,
   "end_time": "2021-04-17T20:51:52.946215",
   "environment_variables": {},
   "exception": null,
   "input_path": "__notebook__.ipynb",
   "output_path": "__notebook__.ipynb",
   "parameters": {},
   "start_time": "2021-04-17T13:07:01.700917",
   "version": "2.3.2"
  },
  "widgets": {
   "application/vnd.jupyter.widget-state+json": {
    "state": {
     "13f0bf06100f4b70a81d23dbcf222347": {
      "model_module": "@jupyter-widgets/controls",
      "model_module_version": "1.5.0",
      "model_name": "HTMLModel",
      "state": {
       "_dom_classes": [],
       "_model_module": "@jupyter-widgets/controls",
       "_model_module_version": "1.5.0",
       "_model_name": "HTMLModel",
       "_view_count": null,
       "_view_module": "@jupyter-widgets/controls",
       "_view_module_version": "1.5.0",
       "_view_name": "HTMLView",
       "description": "",
       "description_tooltip": null,
       "layout": "IPY_MODEL_a9dde426bd1f452eb46acc29cebfc307",
       "placeholder": "​",
       "style": "IPY_MODEL_b4940c1c34fa4b7da68f2b6fd7495bd8",
       "value": " 197/200 [00:11&lt;00:00, 18.19it/s]"
      }
     },
     "1abdc2eca2bf4d59b8758c8e53e9362c": {
      "model_module": "@jupyter-widgets/controls",
      "model_module_version": "1.5.0",
      "model_name": "HTMLModel",
      "state": {
       "_dom_classes": [],
       "_model_module": "@jupyter-widgets/controls",
       "_model_module_version": "1.5.0",
       "_model_name": "HTMLModel",
       "_view_count": null,
       "_view_module": "@jupyter-widgets/controls",
       "_view_module_version": "1.5.0",
       "_view_name": "HTMLView",
       "description": "",
       "description_tooltip": null,
       "layout": "IPY_MODEL_b8753813234a40d3a8337017532ce82f",
       "placeholder": "​",
       "style": "IPY_MODEL_24210981afa94695884846c7f9ff8469",
       "value": " 98%"
      }
     },
     "24210981afa94695884846c7f9ff8469": {
      "model_module": "@jupyter-widgets/controls",
      "model_module_version": "1.5.0",
      "model_name": "DescriptionStyleModel",
      "state": {
       "_model_module": "@jupyter-widgets/controls",
       "_model_module_version": "1.5.0",
       "_model_name": "DescriptionStyleModel",
       "_view_count": null,
       "_view_module": "@jupyter-widgets/base",
       "_view_module_version": "1.2.0",
       "_view_name": "StyleView",
       "description_width": ""
      }
     },
     "288be50ca8244d68993ccbd5d303f843": {
      "model_module": "@jupyter-widgets/base",
      "model_module_version": "1.2.0",
      "model_name": "LayoutModel",
      "state": {
       "_model_module": "@jupyter-widgets/base",
       "_model_module_version": "1.2.0",
       "_model_name": "LayoutModel",
       "_view_count": null,
       "_view_module": "@jupyter-widgets/base",
       "_view_module_version": "1.2.0",
       "_view_name": "LayoutView",
       "align_content": null,
       "align_items": null,
       "align_self": null,
       "border": null,
       "bottom": null,
       "display": null,
       "flex": null,
       "flex_flow": null,
       "grid_area": null,
       "grid_auto_columns": null,
       "grid_auto_flow": null,
       "grid_auto_rows": null,
       "grid_column": null,
       "grid_gap": null,
       "grid_row": null,
       "grid_template_areas": null,
       "grid_template_columns": null,
       "grid_template_rows": null,
       "height": null,
       "justify_content": null,
       "justify_items": null,
       "left": null,
       "margin": null,
       "max_height": null,
       "max_width": null,
       "min_height": null,
       "min_width": null,
       "object_fit": null,
       "object_position": null,
       "order": null,
       "overflow": null,
       "overflow_x": null,
       "overflow_y": null,
       "padding": null,
       "right": null,
       "top": null,
       "visibility": null,
       "width": null
      }
     },
     "2f09c3cffdc34acfab4b25cd698bdd2c": {
      "model_module": "@jupyter-widgets/controls",
      "model_module_version": "1.5.0",
      "model_name": "ProgressStyleModel",
      "state": {
       "_model_module": "@jupyter-widgets/controls",
       "_model_module_version": "1.5.0",
       "_model_name": "ProgressStyleModel",
       "_view_count": null,
       "_view_module": "@jupyter-widgets/base",
       "_view_module_version": "1.2.0",
       "_view_name": "StyleView",
       "bar_color": null,
       "description_width": ""
      }
     },
     "2fd4f38da5d44e20848d9f7f209960af": {
      "model_module": "@jupyter-widgets/controls",
      "model_module_version": "1.5.0",
      "model_name": "HBoxModel",
      "state": {
       "_dom_classes": [],
       "_model_module": "@jupyter-widgets/controls",
       "_model_module_version": "1.5.0",
       "_model_name": "HBoxModel",
       "_view_count": null,
       "_view_module": "@jupyter-widgets/controls",
       "_view_module_version": "1.5.0",
       "_view_name": "HBoxView",
       "box_style": "",
       "children": [
        "IPY_MODEL_1abdc2eca2bf4d59b8758c8e53e9362c",
        "IPY_MODEL_9a7f42d184d3468e9c03d0f10e8ccce3",
        "IPY_MODEL_13f0bf06100f4b70a81d23dbcf222347"
       ],
       "layout": "IPY_MODEL_53a19ca3bab044c88f8e7505d42ee614"
      }
     },
     "3bfb3febb59045319a2370ce43c3c7f8": {
      "model_module": "@jupyter-widgets/controls",
      "model_module_version": "1.5.0",
      "model_name": "HTMLModel",
      "state": {
       "_dom_classes": [],
       "_model_module": "@jupyter-widgets/controls",
       "_model_module_version": "1.5.0",
       "_model_name": "HTMLModel",
       "_view_count": null,
       "_view_module": "@jupyter-widgets/controls",
       "_view_module_version": "1.5.0",
       "_view_name": "HTMLView",
       "description": "",
       "description_tooltip": null,
       "layout": "IPY_MODEL_53339ef2216346ffa08a034b2c79a769",
       "placeholder": "​",
       "style": "IPY_MODEL_ffc88c5554474545907139a17faf3e75",
       "value": " 200/200 [00:11&lt;00:00, 16.95it/s]"
      }
     },
     "4e9e14d8e393478cb1626b8416e65745": {
      "model_module": "@jupyter-widgets/controls",
      "model_module_version": "1.5.0",
      "model_name": "FloatProgressModel",
      "state": {
       "_dom_classes": [],
       "_model_module": "@jupyter-widgets/controls",
       "_model_module_version": "1.5.0",
       "_model_name": "FloatProgressModel",
       "_view_count": null,
       "_view_module": "@jupyter-widgets/controls",
       "_view_module_version": "1.5.0",
       "_view_name": "ProgressView",
       "bar_style": "danger",
       "description": "",
       "description_tooltip": null,
       "layout": "IPY_MODEL_9ab639f87858439098978c8d9ea903bf",
       "max": 200.0,
       "min": 0.0,
       "orientation": "horizontal",
       "style": "IPY_MODEL_622b8584dc5f419eb7511615e9ab203b",
       "value": 130.0
      }
     },
     "53339ef2216346ffa08a034b2c79a769": {
      "model_module": "@jupyter-widgets/base",
      "model_module_version": "1.2.0",
      "model_name": "LayoutModel",
      "state": {
       "_model_module": "@jupyter-widgets/base",
       "_model_module_version": "1.2.0",
       "_model_name": "LayoutModel",
       "_view_count": null,
       "_view_module": "@jupyter-widgets/base",
       "_view_module_version": "1.2.0",
       "_view_name": "LayoutView",
       "align_content": null,
       "align_items": null,
       "align_self": null,
       "border": null,
       "bottom": null,
       "display": null,
       "flex": null,
       "flex_flow": null,
       "grid_area": null,
       "grid_auto_columns": null,
       "grid_auto_flow": null,
       "grid_auto_rows": null,
       "grid_column": null,
       "grid_gap": null,
       "grid_row": null,
       "grid_template_areas": null,
       "grid_template_columns": null,
       "grid_template_rows": null,
       "height": null,
       "justify_content": null,
       "justify_items": null,
       "left": null,
       "margin": null,
       "max_height": null,
       "max_width": null,
       "min_height": null,
       "min_width": null,
       "object_fit": null,
       "object_position": null,
       "order": null,
       "overflow": null,
       "overflow_x": null,
       "overflow_y": null,
       "padding": null,
       "right": null,
       "top": null,
       "visibility": null,
       "width": null
      }
     },
     "53a19ca3bab044c88f8e7505d42ee614": {
      "model_module": "@jupyter-widgets/base",
      "model_module_version": "1.2.0",
      "model_name": "LayoutModel",
      "state": {
       "_model_module": "@jupyter-widgets/base",
       "_model_module_version": "1.2.0",
       "_model_name": "LayoutModel",
       "_view_count": null,
       "_view_module": "@jupyter-widgets/base",
       "_view_module_version": "1.2.0",
       "_view_name": "LayoutView",
       "align_content": null,
       "align_items": null,
       "align_self": null,
       "border": null,
       "bottom": null,
       "display": null,
       "flex": null,
       "flex_flow": null,
       "grid_area": null,
       "grid_auto_columns": null,
       "grid_auto_flow": null,
       "grid_auto_rows": null,
       "grid_column": null,
       "grid_gap": null,
       "grid_row": null,
       "grid_template_areas": null,
       "grid_template_columns": null,
       "grid_template_rows": null,
       "height": null,
       "justify_content": null,
       "justify_items": null,
       "left": null,
       "margin": null,
       "max_height": null,
       "max_width": null,
       "min_height": null,
       "min_width": null,
       "object_fit": null,
       "object_position": null,
       "order": null,
       "overflow": null,
       "overflow_x": null,
       "overflow_y": null,
       "padding": null,
       "right": null,
       "top": null,
       "visibility": null,
       "width": null
      }
     },
     "622b8584dc5f419eb7511615e9ab203b": {
      "model_module": "@jupyter-widgets/controls",
      "model_module_version": "1.5.0",
      "model_name": "ProgressStyleModel",
      "state": {
       "_model_module": "@jupyter-widgets/controls",
       "_model_module_version": "1.5.0",
       "_model_name": "ProgressStyleModel",
       "_view_count": null,
       "_view_module": "@jupyter-widgets/base",
       "_view_module_version": "1.2.0",
       "_view_name": "StyleView",
       "bar_color": null,
       "description_width": ""
      }
     },
     "773999f8ff1d4ada9c3a123d9db0d5f0": {
      "model_module": "@jupyter-widgets/controls",
      "model_module_version": "1.5.0",
      "model_name": "DescriptionStyleModel",
      "state": {
       "_model_module": "@jupyter-widgets/controls",
       "_model_module_version": "1.5.0",
       "_model_name": "DescriptionStyleModel",
       "_view_count": null,
       "_view_module": "@jupyter-widgets/base",
       "_view_module_version": "1.2.0",
       "_view_name": "StyleView",
       "description_width": ""
      }
     },
     "7d3c7e93383e4437bf628388a12b8cc2": {
      "model_module": "@jupyter-widgets/base",
      "model_module_version": "1.2.0",
      "model_name": "LayoutModel",
      "state": {
       "_model_module": "@jupyter-widgets/base",
       "_model_module_version": "1.2.0",
       "_model_name": "LayoutModel",
       "_view_count": null,
       "_view_module": "@jupyter-widgets/base",
       "_view_module_version": "1.2.0",
       "_view_name": "LayoutView",
       "align_content": null,
       "align_items": null,
       "align_self": null,
       "border": null,
       "bottom": null,
       "display": null,
       "flex": null,
       "flex_flow": null,
       "grid_area": null,
       "grid_auto_columns": null,
       "grid_auto_flow": null,
       "grid_auto_rows": null,
       "grid_column": null,
       "grid_gap": null,
       "grid_row": null,
       "grid_template_areas": null,
       "grid_template_columns": null,
       "grid_template_rows": null,
       "height": null,
       "justify_content": null,
       "justify_items": null,
       "left": null,
       "margin": null,
       "max_height": null,
       "max_width": null,
       "min_height": null,
       "min_width": null,
       "object_fit": null,
       "object_position": null,
       "order": null,
       "overflow": null,
       "overflow_x": null,
       "overflow_y": null,
       "padding": null,
       "right": null,
       "top": null,
       "visibility": null,
       "width": null
      }
     },
     "8539ca1eb60e4dcf9267249a832fff6a": {
      "model_module": "@jupyter-widgets/base",
      "model_module_version": "1.2.0",
      "model_name": "LayoutModel",
      "state": {
       "_model_module": "@jupyter-widgets/base",
       "_model_module_version": "1.2.0",
       "_model_name": "LayoutModel",
       "_view_count": null,
       "_view_module": "@jupyter-widgets/base",
       "_view_module_version": "1.2.0",
       "_view_name": "LayoutView",
       "align_content": null,
       "align_items": null,
       "align_self": null,
       "border": null,
       "bottom": null,
       "display": null,
       "flex": null,
       "flex_flow": null,
       "grid_area": null,
       "grid_auto_columns": null,
       "grid_auto_flow": null,
       "grid_auto_rows": null,
       "grid_column": null,
       "grid_gap": null,
       "grid_row": null,
       "grid_template_areas": null,
       "grid_template_columns": null,
       "grid_template_rows": null,
       "height": null,
       "justify_content": null,
       "justify_items": null,
       "left": null,
       "margin": null,
       "max_height": null,
       "max_width": null,
       "min_height": null,
       "min_width": null,
       "object_fit": null,
       "object_position": null,
       "order": null,
       "overflow": null,
       "overflow_x": null,
       "overflow_y": null,
       "padding": null,
       "right": null,
       "top": null,
       "visibility": null,
       "width": null
      }
     },
     "85a60623273c4d5590e26f501ee43949": {
      "model_module": "@jupyter-widgets/base",
      "model_module_version": "1.2.0",
      "model_name": "LayoutModel",
      "state": {
       "_model_module": "@jupyter-widgets/base",
       "_model_module_version": "1.2.0",
       "_model_name": "LayoutModel",
       "_view_count": null,
       "_view_module": "@jupyter-widgets/base",
       "_view_module_version": "1.2.0",
       "_view_name": "LayoutView",
       "align_content": null,
       "align_items": null,
       "align_self": null,
       "border": null,
       "bottom": null,
       "display": null,
       "flex": null,
       "flex_flow": null,
       "grid_area": null,
       "grid_auto_columns": null,
       "grid_auto_flow": null,
       "grid_auto_rows": null,
       "grid_column": null,
       "grid_gap": null,
       "grid_row": null,
       "grid_template_areas": null,
       "grid_template_columns": null,
       "grid_template_rows": null,
       "height": null,
       "justify_content": null,
       "justify_items": null,
       "left": null,
       "margin": null,
       "max_height": null,
       "max_width": null,
       "min_height": null,
       "min_width": null,
       "object_fit": null,
       "object_position": null,
       "order": null,
       "overflow": null,
       "overflow_x": null,
       "overflow_y": null,
       "padding": null,
       "right": null,
       "top": null,
       "visibility": null,
       "width": null
      }
     },
     "8660881b19dd4d578234330675542b32": {
      "model_module": "@jupyter-widgets/controls",
      "model_module_version": "1.5.0",
      "model_name": "ProgressStyleModel",
      "state": {
       "_model_module": "@jupyter-widgets/controls",
       "_model_module_version": "1.5.0",
       "_model_name": "ProgressStyleModel",
       "_view_count": null,
       "_view_module": "@jupyter-widgets/base",
       "_view_module_version": "1.2.0",
       "_view_name": "StyleView",
       "bar_color": null,
       "description_width": ""
      }
     },
     "8c65cf273bc64e3aa5aa6eedb5a0e079": {
      "model_module": "@jupyter-widgets/controls",
      "model_module_version": "1.5.0",
      "model_name": "FloatProgressModel",
      "state": {
       "_dom_classes": [],
       "_model_module": "@jupyter-widgets/controls",
       "_model_module_version": "1.5.0",
       "_model_name": "FloatProgressModel",
       "_view_count": null,
       "_view_module": "@jupyter-widgets/controls",
       "_view_module_version": "1.5.0",
       "_view_name": "ProgressView",
       "bar_style": "success",
       "description": "",
       "description_tooltip": null,
       "layout": "IPY_MODEL_288be50ca8244d68993ccbd5d303f843",
       "max": 200.0,
       "min": 0.0,
       "orientation": "horizontal",
       "style": "IPY_MODEL_2f09c3cffdc34acfab4b25cd698bdd2c",
       "value": 200.0
      }
     },
     "9a7f42d184d3468e9c03d0f10e8ccce3": {
      "model_module": "@jupyter-widgets/controls",
      "model_module_version": "1.5.0",
      "model_name": "FloatProgressModel",
      "state": {
       "_dom_classes": [],
       "_model_module": "@jupyter-widgets/controls",
       "_model_module_version": "1.5.0",
       "_model_name": "FloatProgressModel",
       "_view_count": null,
       "_view_module": "@jupyter-widgets/controls",
       "_view_module_version": "1.5.0",
       "_view_name": "ProgressView",
       "bar_style": "danger",
       "description": "",
       "description_tooltip": null,
       "layout": "IPY_MODEL_a2ff6949b3324af29445aa003b0f3482",
       "max": 200.0,
       "min": 0.0,
       "orientation": "horizontal",
       "style": "IPY_MODEL_8660881b19dd4d578234330675542b32",
       "value": 197.0
      }
     },
     "9ab639f87858439098978c8d9ea903bf": {
      "model_module": "@jupyter-widgets/base",
      "model_module_version": "1.2.0",
      "model_name": "LayoutModel",
      "state": {
       "_model_module": "@jupyter-widgets/base",
       "_model_module_version": "1.2.0",
       "_model_name": "LayoutModel",
       "_view_count": null,
       "_view_module": "@jupyter-widgets/base",
       "_view_module_version": "1.2.0",
       "_view_name": "LayoutView",
       "align_content": null,
       "align_items": null,
       "align_self": null,
       "border": null,
       "bottom": null,
       "display": null,
       "flex": null,
       "flex_flow": null,
       "grid_area": null,
       "grid_auto_columns": null,
       "grid_auto_flow": null,
       "grid_auto_rows": null,
       "grid_column": null,
       "grid_gap": null,
       "grid_row": null,
       "grid_template_areas": null,
       "grid_template_columns": null,
       "grid_template_rows": null,
       "height": null,
       "justify_content": null,
       "justify_items": null,
       "left": null,
       "margin": null,
       "max_height": null,
       "max_width": null,
       "min_height": null,
       "min_width": null,
       "object_fit": null,
       "object_position": null,
       "order": null,
       "overflow": null,
       "overflow_x": null,
       "overflow_y": null,
       "padding": null,
       "right": null,
       "top": null,
       "visibility": null,
       "width": null
      }
     },
     "a1bfa3e72e49402f9c324b362fc4f852": {
      "model_module": "@jupyter-widgets/controls",
      "model_module_version": "1.5.0",
      "model_name": "HBoxModel",
      "state": {
       "_dom_classes": [],
       "_model_module": "@jupyter-widgets/controls",
       "_model_module_version": "1.5.0",
       "_model_name": "HBoxModel",
       "_view_count": null,
       "_view_module": "@jupyter-widgets/controls",
       "_view_module_version": "1.5.0",
       "_view_name": "HBoxView",
       "box_style": "",
       "children": [
        "IPY_MODEL_e8511043e87348ec88e7f814fe53f883",
        "IPY_MODEL_4e9e14d8e393478cb1626b8416e65745",
        "IPY_MODEL_a5b5c51b553a4638bfdc97ba138fe679"
       ],
       "layout": "IPY_MODEL_85a60623273c4d5590e26f501ee43949"
      }
     },
     "a2ff6949b3324af29445aa003b0f3482": {
      "model_module": "@jupyter-widgets/base",
      "model_module_version": "1.2.0",
      "model_name": "LayoutModel",
      "state": {
       "_model_module": "@jupyter-widgets/base",
       "_model_module_version": "1.2.0",
       "_model_name": "LayoutModel",
       "_view_count": null,
       "_view_module": "@jupyter-widgets/base",
       "_view_module_version": "1.2.0",
       "_view_name": "LayoutView",
       "align_content": null,
       "align_items": null,
       "align_self": null,
       "border": null,
       "bottom": null,
       "display": null,
       "flex": null,
       "flex_flow": null,
       "grid_area": null,
       "grid_auto_columns": null,
       "grid_auto_flow": null,
       "grid_auto_rows": null,
       "grid_column": null,
       "grid_gap": null,
       "grid_row": null,
       "grid_template_areas": null,
       "grid_template_columns": null,
       "grid_template_rows": null,
       "height": null,
       "justify_content": null,
       "justify_items": null,
       "left": null,
       "margin": null,
       "max_height": null,
       "max_width": null,
       "min_height": null,
       "min_width": null,
       "object_fit": null,
       "object_position": null,
       "order": null,
       "overflow": null,
       "overflow_x": null,
       "overflow_y": null,
       "padding": null,
       "right": null,
       "top": null,
       "visibility": null,
       "width": null
      }
     },
     "a5b5c51b553a4638bfdc97ba138fe679": {
      "model_module": "@jupyter-widgets/controls",
      "model_module_version": "1.5.0",
      "model_name": "HTMLModel",
      "state": {
       "_dom_classes": [],
       "_model_module": "@jupyter-widgets/controls",
       "_model_module_version": "1.5.0",
       "_model_name": "HTMLModel",
       "_view_count": null,
       "_view_module": "@jupyter-widgets/controls",
       "_view_module_version": "1.5.0",
       "_view_name": "HTMLView",
       "description": "",
       "description_tooltip": null,
       "layout": "IPY_MODEL_e5076de3b49d47cc953034b8aa72124a",
       "placeholder": "​",
       "style": "IPY_MODEL_773999f8ff1d4ada9c3a123d9db0d5f0",
       "value": " 130/200 [00:07&lt;00:04, 17.30it/s]"
      }
     },
     "a9dde426bd1f452eb46acc29cebfc307": {
      "model_module": "@jupyter-widgets/base",
      "model_module_version": "1.2.0",
      "model_name": "LayoutModel",
      "state": {
       "_model_module": "@jupyter-widgets/base",
       "_model_module_version": "1.2.0",
       "_model_name": "LayoutModel",
       "_view_count": null,
       "_view_module": "@jupyter-widgets/base",
       "_view_module_version": "1.2.0",
       "_view_name": "LayoutView",
       "align_content": null,
       "align_items": null,
       "align_self": null,
       "border": null,
       "bottom": null,
       "display": null,
       "flex": null,
       "flex_flow": null,
       "grid_area": null,
       "grid_auto_columns": null,
       "grid_auto_flow": null,
       "grid_auto_rows": null,
       "grid_column": null,
       "grid_gap": null,
       "grid_row": null,
       "grid_template_areas": null,
       "grid_template_columns": null,
       "grid_template_rows": null,
       "height": null,
       "justify_content": null,
       "justify_items": null,
       "left": null,
       "margin": null,
       "max_height": null,
       "max_width": null,
       "min_height": null,
       "min_width": null,
       "object_fit": null,
       "object_position": null,
       "order": null,
       "overflow": null,
       "overflow_x": null,
       "overflow_y": null,
       "padding": null,
       "right": null,
       "top": null,
       "visibility": null,
       "width": null
      }
     },
     "b4940c1c34fa4b7da68f2b6fd7495bd8": {
      "model_module": "@jupyter-widgets/controls",
      "model_module_version": "1.5.0",
      "model_name": "DescriptionStyleModel",
      "state": {
       "_model_module": "@jupyter-widgets/controls",
       "_model_module_version": "1.5.0",
       "_model_name": "DescriptionStyleModel",
       "_view_count": null,
       "_view_module": "@jupyter-widgets/base",
       "_view_module_version": "1.2.0",
       "_view_name": "StyleView",
       "description_width": ""
      }
     },
     "b8753813234a40d3a8337017532ce82f": {
      "model_module": "@jupyter-widgets/base",
      "model_module_version": "1.2.0",
      "model_name": "LayoutModel",
      "state": {
       "_model_module": "@jupyter-widgets/base",
       "_model_module_version": "1.2.0",
       "_model_name": "LayoutModel",
       "_view_count": null,
       "_view_module": "@jupyter-widgets/base",
       "_view_module_version": "1.2.0",
       "_view_name": "LayoutView",
       "align_content": null,
       "align_items": null,
       "align_self": null,
       "border": null,
       "bottom": null,
       "display": null,
       "flex": null,
       "flex_flow": null,
       "grid_area": null,
       "grid_auto_columns": null,
       "grid_auto_flow": null,
       "grid_auto_rows": null,
       "grid_column": null,
       "grid_gap": null,
       "grid_row": null,
       "grid_template_areas": null,
       "grid_template_columns": null,
       "grid_template_rows": null,
       "height": null,
       "justify_content": null,
       "justify_items": null,
       "left": null,
       "margin": null,
       "max_height": null,
       "max_width": null,
       "min_height": null,
       "min_width": null,
       "object_fit": null,
       "object_position": null,
       "order": null,
       "overflow": null,
       "overflow_x": null,
       "overflow_y": null,
       "padding": null,
       "right": null,
       "top": null,
       "visibility": null,
       "width": null
      }
     },
     "d69966c98ad1479aadabc54b7a02dc2e": {
      "model_module": "@jupyter-widgets/controls",
      "model_module_version": "1.5.0",
      "model_name": "HBoxModel",
      "state": {
       "_dom_classes": [],
       "_model_module": "@jupyter-widgets/controls",
       "_model_module_version": "1.5.0",
       "_model_name": "HBoxModel",
       "_view_count": null,
       "_view_module": "@jupyter-widgets/controls",
       "_view_module_version": "1.5.0",
       "_view_name": "HBoxView",
       "box_style": "",
       "children": [
        "IPY_MODEL_fbf2a25781b04d29bfe07be6b535577b",
        "IPY_MODEL_8c65cf273bc64e3aa5aa6eedb5a0e079",
        "IPY_MODEL_3bfb3febb59045319a2370ce43c3c7f8"
       ],
       "layout": "IPY_MODEL_7d3c7e93383e4437bf628388a12b8cc2"
      }
     },
     "e3ccee9770534cd29459d88a7b4f6f62": {
      "model_module": "@jupyter-widgets/base",
      "model_module_version": "1.2.0",
      "model_name": "LayoutModel",
      "state": {
       "_model_module": "@jupyter-widgets/base",
       "_model_module_version": "1.2.0",
       "_model_name": "LayoutModel",
       "_view_count": null,
       "_view_module": "@jupyter-widgets/base",
       "_view_module_version": "1.2.0",
       "_view_name": "LayoutView",
       "align_content": null,
       "align_items": null,
       "align_self": null,
       "border": null,
       "bottom": null,
       "display": null,
       "flex": null,
       "flex_flow": null,
       "grid_area": null,
       "grid_auto_columns": null,
       "grid_auto_flow": null,
       "grid_auto_rows": null,
       "grid_column": null,
       "grid_gap": null,
       "grid_row": null,
       "grid_template_areas": null,
       "grid_template_columns": null,
       "grid_template_rows": null,
       "height": null,
       "justify_content": null,
       "justify_items": null,
       "left": null,
       "margin": null,
       "max_height": null,
       "max_width": null,
       "min_height": null,
       "min_width": null,
       "object_fit": null,
       "object_position": null,
       "order": null,
       "overflow": null,
       "overflow_x": null,
       "overflow_y": null,
       "padding": null,
       "right": null,
       "top": null,
       "visibility": null,
       "width": null
      }
     },
     "e5076de3b49d47cc953034b8aa72124a": {
      "model_module": "@jupyter-widgets/base",
      "model_module_version": "1.2.0",
      "model_name": "LayoutModel",
      "state": {
       "_model_module": "@jupyter-widgets/base",
       "_model_module_version": "1.2.0",
       "_model_name": "LayoutModel",
       "_view_count": null,
       "_view_module": "@jupyter-widgets/base",
       "_view_module_version": "1.2.0",
       "_view_name": "LayoutView",
       "align_content": null,
       "align_items": null,
       "align_self": null,
       "border": null,
       "bottom": null,
       "display": null,
       "flex": null,
       "flex_flow": null,
       "grid_area": null,
       "grid_auto_columns": null,
       "grid_auto_flow": null,
       "grid_auto_rows": null,
       "grid_column": null,
       "grid_gap": null,
       "grid_row": null,
       "grid_template_areas": null,
       "grid_template_columns": null,
       "grid_template_rows": null,
       "height": null,
       "justify_content": null,
       "justify_items": null,
       "left": null,
       "margin": null,
       "max_height": null,
       "max_width": null,
       "min_height": null,
       "min_width": null,
       "object_fit": null,
       "object_position": null,
       "order": null,
       "overflow": null,
       "overflow_x": null,
       "overflow_y": null,
       "padding": null,
       "right": null,
       "top": null,
       "visibility": null,
       "width": null
      }
     },
     "e8511043e87348ec88e7f814fe53f883": {
      "model_module": "@jupyter-widgets/controls",
      "model_module_version": "1.5.0",
      "model_name": "HTMLModel",
      "state": {
       "_dom_classes": [],
       "_model_module": "@jupyter-widgets/controls",
       "_model_module_version": "1.5.0",
       "_model_name": "HTMLModel",
       "_view_count": null,
       "_view_module": "@jupyter-widgets/controls",
       "_view_module_version": "1.5.0",
       "_view_name": "HTMLView",
       "description": "",
       "description_tooltip": null,
       "layout": "IPY_MODEL_8539ca1eb60e4dcf9267249a832fff6a",
       "placeholder": "​",
       "style": "IPY_MODEL_f16592b02a1a4fbeb48d723fd692a17b",
       "value": " 65%"
      }
     },
     "f16592b02a1a4fbeb48d723fd692a17b": {
      "model_module": "@jupyter-widgets/controls",
      "model_module_version": "1.5.0",
      "model_name": "DescriptionStyleModel",
      "state": {
       "_model_module": "@jupyter-widgets/controls",
       "_model_module_version": "1.5.0",
       "_model_name": "DescriptionStyleModel",
       "_view_count": null,
       "_view_module": "@jupyter-widgets/base",
       "_view_module_version": "1.2.0",
       "_view_name": "StyleView",
       "description_width": ""
      }
     },
     "f210e37a88f647afbec51b0a521992b9": {
      "model_module": "@jupyter-widgets/controls",
      "model_module_version": "1.5.0",
      "model_name": "DescriptionStyleModel",
      "state": {
       "_model_module": "@jupyter-widgets/controls",
       "_model_module_version": "1.5.0",
       "_model_name": "DescriptionStyleModel",
       "_view_count": null,
       "_view_module": "@jupyter-widgets/base",
       "_view_module_version": "1.2.0",
       "_view_name": "StyleView",
       "description_width": ""
      }
     },
     "fbf2a25781b04d29bfe07be6b535577b": {
      "model_module": "@jupyter-widgets/controls",
      "model_module_version": "1.5.0",
      "model_name": "HTMLModel",
      "state": {
       "_dom_classes": [],
       "_model_module": "@jupyter-widgets/controls",
       "_model_module_version": "1.5.0",
       "_model_name": "HTMLModel",
       "_view_count": null,
       "_view_module": "@jupyter-widgets/controls",
       "_view_module_version": "1.5.0",
       "_view_name": "HTMLView",
       "description": "",
       "description_tooltip": null,
       "layout": "IPY_MODEL_e3ccee9770534cd29459d88a7b4f6f62",
       "placeholder": "​",
       "style": "IPY_MODEL_f210e37a88f647afbec51b0a521992b9",
       "value": "100%"
      }
     },
     "ffc88c5554474545907139a17faf3e75": {
      "model_module": "@jupyter-widgets/controls",
      "model_module_version": "1.5.0",
      "model_name": "DescriptionStyleModel",
      "state": {
       "_model_module": "@jupyter-widgets/controls",
       "_model_module_version": "1.5.0",
       "_model_name": "DescriptionStyleModel",
       "_view_count": null,
       "_view_module": "@jupyter-widgets/base",
       "_view_module_version": "1.2.0",
       "_view_name": "StyleView",
       "description_width": ""
      }
     }
    },
    "version_major": 2,
    "version_minor": 0
   }
  }
 },
 "nbformat": 4,
 "nbformat_minor": 5
}
